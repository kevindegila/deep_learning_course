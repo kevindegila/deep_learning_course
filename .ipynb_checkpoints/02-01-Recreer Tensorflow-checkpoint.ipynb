{
 "cells": [
  {
   "cell_type": "code",
   "execution_count": 1,
   "metadata": {
    "executionInfo": {
     "elapsed": 467,
     "status": "ok",
     "timestamp": 1687387972531,
     "user": {
      "displayName": "Kevin Degila",
      "userId": "02447322191644424226"
     },
     "user_tz": -60
    },
    "id": "UT74bNWZakgN"
   },
   "outputs": [],
   "source": [
    "import numpy as np"
   ]
  },
  {
   "cell_type": "code",
   "execution_count": null,
   "metadata": {
    "id": "3_UF7yxRpVQ4"
   },
   "outputs": [],
   "source": []
  },
  {
   "cell_type": "markdown",
   "metadata": {
    "id": "L1c696dgpV6F"
   },
   "source": [
    "# La boite générique"
   ]
  },
  {
   "cell_type": "code",
   "execution_count": 2,
   "metadata": {
    "executionInfo": {
     "elapsed": 481,
     "status": "ok",
     "timestamp": 1687392395222,
     "user": {
      "displayName": "Kevin Degila",
      "userId": "02447322191644424226"
     },
     "user_tz": -60
    },
    "id": "TZFzM_1BfRxH"
   },
   "outputs": [],
   "source": [
    "class Boite():\n",
    "\n",
    "  def __init__(self):\n",
    "    pass\n",
    "\n",
    "  def forward(self, inputs):\n",
    "    self.inputs = inputs\n",
    "    self.output = self.operation()\n",
    "    return self.output\n",
    "\n",
    "  def backward(self, derivee_output):\n",
    "    assert derivee_output.shape == self.output.shape, f\"La derivee_output reçue a un shape {derivee_output.shape} et different du shape de output : {self.output.shape}\"\n",
    "\n",
    "    self.derivee_inputs = self.gradient(derivee_output)\n",
    "    assert self.derivee_inputs.shape == self.inputs.shape, f\"La derivee_input calculée a un shape {self.derivee_inputs.shape } et different du shape de inputs : {self.inputs.shape}\"\n",
    "\n",
    "    return self.derivee_inputs\n",
    "\n",
    "\n",
    "  def operation(self):\n",
    "    pass\n",
    "\n",
    "  def gradient(self, derivee_output):\n",
    "    pass\n"
   ]
  },
  {
   "cell_type": "code",
   "execution_count": null,
   "metadata": {
    "id": "bivQj03vpanD"
   },
   "outputs": [],
   "source": []
  },
  {
   "cell_type": "markdown",
   "metadata": {
    "id": "B1fYIrJgpbUz"
   },
   "source": [
    "# La boite paramètrée"
   ]
  },
  {
   "cell_type": "code",
   "execution_count": 3,
   "metadata": {
    "executionInfo": {
     "elapsed": 3,
     "status": "ok",
     "timestamp": 1687388825470,
     "user": {
      "displayName": "Kevin Degila",
      "userId": "02447322191644424226"
     },
     "user_tz": -60
    },
    "id": "MkjaXZU6gNs_"
   },
   "outputs": [],
   "source": [
    "class BoiteParam():\n",
    "\n",
    "  def __init__(self, param):\n",
    "    self.param = param\n",
    "\n",
    "  def forward(self, inputs):\n",
    "    self.inputs = inputs\n",
    "    self.output = self.operation()\n",
    "    return self.output\n",
    "\n",
    "  def backward(self, derivee_output):\n",
    "    assert derivee_output.shape == self.output.shape, f\"La derivee_output reçue a un shape {derivee_output.shape} et different du shape de output : {self.output}\"\n",
    "\n",
    "    self.derivee_inputs = self.gradient(derivee_output)\n",
    "    assert self.derivee_inputs.shape == self.inputs.shape, f\"La derivee_input calculée a un shape {self.derivee_inputs.shape } et different du shape de inputs : {self.inputs.shape}\"\n",
    "\n",
    "    self.derivee_param = self.gradient_param(derivee_output)\n",
    "    assert self.derivee_param.shape == self.param.shape, f\"La derivee de param a un shape {self.derivee_param.shape} et different du shape de param : {self.param.shape}\"\n",
    "\n",
    "    return self.derivee_inputs\n",
    "\n",
    "\n",
    "  def operation(self):\n",
    "    pass\n",
    "\n",
    "  def gradient(self, derivee_output):\n",
    "    pass\n",
    "\n",
    "\n",
    "  def gradient_param(self, derivee_output):\n",
    "    pass"
   ]
  },
  {
   "cell_type": "markdown",
   "metadata": {
    "id": "y8Rt0F5Wifmp"
   },
   "source": [
    "# La classe Dot"
   ]
  },
  {
   "cell_type": "code",
   "execution_count": 4,
   "metadata": {
    "executionInfo": {
     "elapsed": 440,
     "status": "ok",
     "timestamp": 1687388827304,
     "user": {
      "displayName": "Kevin Degila",
      "userId": "02447322191644424226"
     },
     "user_tz": -60
    },
    "id": "eK4i0lrqiHJh"
   },
   "outputs": [],
   "source": [
    "class Dot(BoiteParam):\n",
    "\n",
    "  def __init__(self, weights):\n",
    "    super().__init__(weights)\n",
    "\n",
    "  def operation(self):\n",
    "    return np.dot(self.inputs, self.param)\n",
    "\n",
    "  def gradient(self, derivee_output):\n",
    "    return np.dot( derivee_output, self.param.T)\n",
    "\n",
    "  def gradient_param(self, derivee_output):\n",
    "    return np.dot(self.inputs.T, derivee_output)\n",
    "\n",
    "  def __repr__(self):\n",
    "    return \"DotProduct\""
   ]
  },
  {
   "cell_type": "code",
   "execution_count": 70,
   "metadata": {
    "executionInfo": {
     "elapsed": 398,
     "status": "ok",
     "timestamp": 1687388829277,
     "user": {
      "displayName": "Kevin Degila",
      "userId": "02447322191644424226"
     },
     "user_tz": -60
    },
    "id": "usc5umRWjnBS"
   },
   "outputs": [],
   "source": [
    "X = np.array([[ 2,  3, -2],\n",
    "       [ 4,  5, -1],\n",
    "       [-5,  2,  3],\n",
    "       [ 0,  5,  4]])"
   ]
  },
  {
   "cell_type": "code",
   "execution_count": 71,
   "metadata": {
    "colab": {
     "base_uri": "https://localhost:8080/"
    },
    "executionInfo": {
     "elapsed": 5,
     "status": "ok",
     "timestamp": 1687388830942,
     "user": {
      "displayName": "Kevin Degila",
      "userId": "02447322191644424226"
     },
     "user_tz": -60
    },
    "id": "Oj1075Umjr7Q",
    "outputId": "4253c2e3-454c-4f9e-9d85-5475c0c40c95"
   },
   "outputs": [
    {
     "data": {
      "text/plain": [
       "(4, 3)"
      ]
     },
     "execution_count": 71,
     "metadata": {},
     "output_type": "execute_result"
    }
   ],
   "source": [
    "X.shape"
   ]
  },
  {
   "cell_type": "code",
   "execution_count": 72,
   "metadata": {
    "colab": {
     "base_uri": "https://localhost:8080/"
    },
    "executionInfo": {
     "elapsed": 4,
     "status": "ok",
     "timestamp": 1687388831513,
     "user": {
      "displayName": "Kevin Degila",
      "userId": "02447322191644424226"
     },
     "user_tz": -60
    },
    "id": "arp83t_djtWK",
    "outputId": "d5e28430-6430-4853-8763-f1f4979706a1"
   },
   "outputs": [
    {
     "data": {
      "text/plain": [
       "(3, 1)"
      ]
     },
     "execution_count": 72,
     "metadata": {},
     "output_type": "execute_result"
    }
   ],
   "source": [
    "W = np.array([[ 0.49671415],\n",
    " [-0.1382643 ],\n",
    " [ 0.64768854]])\n",
    "W.shape"
   ]
  },
  {
   "cell_type": "code",
   "execution_count": 8,
   "metadata": {
    "colab": {
     "base_uri": "https://localhost:8080/"
    },
    "executionInfo": {
     "elapsed": 393,
     "status": "ok",
     "timestamp": 1687361118701,
     "user": {
      "displayName": "Kevin Degila",
      "userId": "02447322191644424226"
     },
     "user_tz": -60
    },
    "id": "W6bkTgYWjyGG",
    "outputId": "bb3b807e-0888-4625-d804-cab678fabe56"
   },
   "outputs": [
    {
     "data": {
      "text/plain": [
       "array([[-0.71674168],\n",
       "       [ 0.64784656],\n",
       "       [-0.81703373],\n",
       "       [ 1.89943266]])"
      ]
     },
     "execution_count": 8,
     "metadata": {},
     "output_type": "execute_result"
    }
   ],
   "source": [
    "np.dot(X, W)"
   ]
  },
  {
   "cell_type": "code",
   "execution_count": 9,
   "metadata": {
    "colab": {
     "base_uri": "https://localhost:8080/"
    },
    "executionInfo": {
     "elapsed": 4,
     "status": "ok",
     "timestamp": 1687387986260,
     "user": {
      "displayName": "Kevin Degila",
      "userId": "02447322191644424226"
     },
     "user_tz": -60
    },
    "id": "-v0D4QMIj1zH",
    "outputId": "03245972-e16e-4cd8-e5ea-14eb36aac935"
   },
   "outputs": [
    {
     "data": {
      "text/plain": [
       "array([[-0.71674168],\n",
       "       [ 0.64784656],\n",
       "       [-0.81703373],\n",
       "       [ 1.89943266]])"
      ]
     },
     "execution_count": 9,
     "metadata": {},
     "output_type": "execute_result"
    }
   ],
   "source": [
    "M = Dot(weights=W)\n",
    "out = M.forward(X)\n",
    "out"
   ]
  },
  {
   "cell_type": "code",
   "execution_count": 10,
   "metadata": {
    "colab": {
     "base_uri": "https://localhost:8080/"
    },
    "executionInfo": {
     "elapsed": 2,
     "status": "ok",
     "timestamp": 1687387987145,
     "user": {
      "displayName": "Kevin Degila",
      "userId": "02447322191644424226"
     },
     "user_tz": -60
    },
    "id": "z8ocMfPXkEgy",
    "outputId": "380a1668-49d6-4205-97e3-0c10299069d5"
   },
   "outputs": [
    {
     "data": {
      "text/plain": [
       "DotProduct"
      ]
     },
     "execution_count": 10,
     "metadata": {},
     "output_type": "execute_result"
    }
   ],
   "source": [
    "M"
   ]
  },
  {
   "cell_type": "code",
   "execution_count": 11,
   "metadata": {
    "colab": {
     "base_uri": "https://localhost:8080/"
    },
    "executionInfo": {
     "elapsed": 3,
     "status": "ok",
     "timestamp": 1687387987724,
     "user": {
      "displayName": "Kevin Degila",
      "userId": "02447322191644424226"
     },
     "user_tz": -60
    },
    "id": "nW3vfrDGkHee",
    "outputId": "a28f2605-9319-41c1-c4a8-d2ad3d2a33a4"
   },
   "outputs": [
    {
     "data": {
      "text/plain": [
       "array([[-1.59445934],\n",
       "       [ 0.21112891],\n",
       "       [-0.1517403 ],\n",
       "       [-1.55099132]])"
      ]
     },
     "execution_count": 11,
     "metadata": {},
     "output_type": "execute_result"
    }
   ],
   "source": [
    "d_out = np.random.randn(4, 1)\n",
    "d_out"
   ]
  },
  {
   "cell_type": "code",
   "execution_count": 12,
   "metadata": {
    "colab": {
     "base_uri": "https://localhost:8080/"
    },
    "executionInfo": {
     "elapsed": 3,
     "status": "ok",
     "timestamp": 1687387989009,
     "user": {
      "displayName": "Kevin Degila",
      "userId": "02447322191644424226"
     },
     "user_tz": -60
    },
    "id": "M_NNDC2ikahu",
    "outputId": "781685e6-6f7c-413d-bd10-c3b1caa4f4a6"
   },
   "outputs": [
    {
     "data": {
      "text/plain": [
       "array([[-0.79199052,  0.2204568 , -1.03271304],\n",
       "       [ 0.10487072, -0.02919159,  0.13674578],\n",
       "       [-0.07537156,  0.02098027, -0.09828046],\n",
       "       [-0.77039934,  0.21444673, -1.00455931]])"
      ]
     },
     "execution_count": 12,
     "metadata": {},
     "output_type": "execute_result"
    }
   ],
   "source": [
    "M.backward(d_out)"
   ]
  },
  {
   "cell_type": "markdown",
   "metadata": {
    "id": "hCdAVoDwlY3Y"
   },
   "source": [
    "# La classe ADD"
   ]
  },
  {
   "cell_type": "code",
   "execution_count": 13,
   "metadata": {
    "executionInfo": {
     "elapsed": 913,
     "status": "ok",
     "timestamp": 1687388836047,
     "user": {
      "displayName": "Kevin Degila",
      "userId": "02447322191644424226"
     },
     "user_tz": -60
    },
    "id": "CCIbOH5XkdsV"
   },
   "outputs": [],
   "source": [
    "class Add(BoiteParam):\n",
    "\n",
    "  def __init__(self, biais):\n",
    "    super().__init__(biais)\n",
    "\n",
    "  def operation(self):\n",
    "    return self.inputs + self.param\n",
    "\n",
    "  def gradient(self, derivee_output):\n",
    "    return np.ones_like(self.inputs) * derivee_output\n",
    "\n",
    "  def gradient_param(self, derivee_output):\n",
    "    r =  np.ones_like(self.param) * derivee_output\n",
    "    return r.sum(axis=0).reshape(1, self.param.shape[1])\n",
    "\n",
    "  def __repr__(self):\n",
    "    return \"AddBiais\""
   ]
  },
  {
   "cell_type": "code",
   "execution_count": 14,
   "metadata": {
    "colab": {
     "base_uri": "https://localhost:8080/"
    },
    "executionInfo": {
     "elapsed": 4,
     "status": "ok",
     "timestamp": 1687388837998,
     "user": {
      "displayName": "Kevin Degila",
      "userId": "02447322191644424226"
     },
     "user_tz": -60
    },
    "id": "Fbl0R6csmBKP",
    "outputId": "1dc2f267-00a0-4de6-f1ef-e4b5bcce7337"
   },
   "outputs": [
    {
     "data": {
      "text/plain": [
       "array([[0.66973032]])"
      ]
     },
     "execution_count": 14,
     "metadata": {},
     "output_type": "execute_result"
    }
   ],
   "source": [
    "\n",
    "B = np.random.rand(1, 1)\n",
    "B"
   ]
  },
  {
   "cell_type": "code",
   "execution_count": 15,
   "metadata": {
    "colab": {
     "base_uri": "https://localhost:8080/"
    },
    "executionInfo": {
     "elapsed": 3,
     "status": "ok",
     "timestamp": 1687387993785,
     "user": {
      "displayName": "Kevin Degila",
      "userId": "02447322191644424226"
     },
     "user_tz": -60
    },
    "id": "8LJMlXg3mZ0i",
    "outputId": "f41b2c71-cfb0-4494-943f-2e1f0ca58422"
   },
   "outputs": [
    {
     "data": {
      "text/plain": [
       "AddBiais"
      ]
     },
     "execution_count": 15,
     "metadata": {},
     "output_type": "execute_result"
    }
   ],
   "source": [
    "b = Add(biais=B)\n",
    "b"
   ]
  },
  {
   "cell_type": "code",
   "execution_count": 16,
   "metadata": {
    "colab": {
     "base_uri": "https://localhost:8080/"
    },
    "executionInfo": {
     "elapsed": 5,
     "status": "ok",
     "timestamp": 1687387994348,
     "user": {
      "displayName": "Kevin Degila",
      "userId": "02447322191644424226"
     },
     "user_tz": -60
    },
    "id": "EDL9Js2tmgL9",
    "outputId": "cf149898-c7c4-4c3d-c780-d02dccc70f14"
   },
   "outputs": [
    {
     "data": {
      "text/plain": [
       "array([[-0.04701136],\n",
       "       [ 1.31757688],\n",
       "       [-0.14730341],\n",
       "       [ 2.56916298]])"
      ]
     },
     "execution_count": 16,
     "metadata": {},
     "output_type": "execute_result"
    }
   ],
   "source": [
    "out_b = b.forward(out)\n",
    "out_b"
   ]
  },
  {
   "cell_type": "code",
   "execution_count": 17,
   "metadata": {
    "colab": {
     "base_uri": "https://localhost:8080/"
    },
    "executionInfo": {
     "elapsed": 3,
     "status": "ok",
     "timestamp": 1687387995396,
     "user": {
      "displayName": "Kevin Degila",
      "userId": "02447322191644424226"
     },
     "user_tz": -60
    },
    "id": "K0YiOGLhmmAU",
    "outputId": "6df860f0-89b6-49f7-bb28-593b3939478a"
   },
   "outputs": [
    {
     "data": {
      "text/plain": [
       "array([[-1.59445934],\n",
       "       [ 0.21112891],\n",
       "       [-0.1517403 ],\n",
       "       [-1.55099132]])"
      ]
     },
     "execution_count": 17,
     "metadata": {},
     "output_type": "execute_result"
    }
   ],
   "source": [
    "d_out"
   ]
  },
  {
   "cell_type": "code",
   "execution_count": 18,
   "metadata": {
    "colab": {
     "base_uri": "https://localhost:8080/"
    },
    "executionInfo": {
     "elapsed": 3,
     "status": "ok",
     "timestamp": 1687387996299,
     "user": {
      "displayName": "Kevin Degila",
      "userId": "02447322191644424226"
     },
     "user_tz": -60
    },
    "id": "GRWbVaOdmvnD",
    "outputId": "0244eb73-c7c3-4e29-aa25-664aedbc6302"
   },
   "outputs": [
    {
     "data": {
      "text/plain": [
       "array([[-1.59445934],\n",
       "       [ 0.21112891],\n",
       "       [-0.1517403 ],\n",
       "       [-1.55099132]])"
      ]
     },
     "execution_count": 18,
     "metadata": {},
     "output_type": "execute_result"
    }
   ],
   "source": [
    "b.backward(d_out)"
   ]
  },
  {
   "cell_type": "markdown",
   "metadata": {
    "id": "4O_Gztx2nexA"
   },
   "source": [
    "# La classe Sigmoid"
   ]
  },
  {
   "cell_type": "code",
   "execution_count": 19,
   "metadata": {
    "executionInfo": {
     "elapsed": 464,
     "status": "ok",
     "timestamp": 1687392444134,
     "user": {
      "displayName": "Kevin Degila",
      "userId": "02447322191644424226"
     },
     "user_tz": -60
    },
    "id": "x2v8AHH1mzXx"
   },
   "outputs": [],
   "source": [
    "class Sigmoid(Boite):\n",
    "\n",
    "  def __init__(self):\n",
    "    super().__init__()\n",
    "\n",
    "  def operation(self):\n",
    "    return 1 / (1 + np.exp(-1 * self.inputs))\n",
    "\n",
    "  def gradient(self, derivee_output):\n",
    "    return self.output * (1 - self.output) * derivee_output\n",
    "\n",
    "  def __repr__(self):\n",
    "    return \"sigmoid\""
   ]
  },
  {
   "cell_type": "code",
   "execution_count": 20,
   "metadata": {
    "executionInfo": {
     "elapsed": 2,
     "status": "ok",
     "timestamp": 1687387998941,
     "user": {
      "displayName": "Kevin Degila",
      "userId": "02447322191644424226"
     },
     "user_tz": -60
    },
    "id": "_q-CdGHzoRyr"
   },
   "outputs": [],
   "source": [
    "sig = Sigmoid()"
   ]
  },
  {
   "cell_type": "code",
   "execution_count": 21,
   "metadata": {
    "colab": {
     "base_uri": "https://localhost:8080/"
    },
    "executionInfo": {
     "elapsed": 3,
     "status": "ok",
     "timestamp": 1687387999461,
     "user": {
      "displayName": "Kevin Degila",
      "userId": "02447322191644424226"
     },
     "user_tz": -60
    },
    "id": "xiLYgEBroeX-",
    "outputId": "bbb95eab-61e5-44e4-9ce7-9ae555ca0369"
   },
   "outputs": [
    {
     "data": {
      "text/plain": [
       "array([[0.48824932],\n",
       "       [0.78877828],\n",
       "       [0.46324059],\n",
       "       [0.9288504 ]])"
      ]
     },
     "execution_count": 21,
     "metadata": {},
     "output_type": "execute_result"
    }
   ],
   "source": [
    "sig_out = sig.forward(out_b)\n",
    "sig_out"
   ]
  },
  {
   "cell_type": "code",
   "execution_count": 22,
   "metadata": {
    "colab": {
     "base_uri": "https://localhost:8080/"
    },
    "executionInfo": {
     "elapsed": 3,
     "status": "ok",
     "timestamp": 1687388001611,
     "user": {
      "displayName": "Kevin Degila",
      "userId": "02447322191644424226"
     },
     "user_tz": -60
    },
    "id": "zDmURwKyoiwE",
    "outputId": "1899ccdb-4675-43dd-c8b7-10e86f606e3e"
   },
   "outputs": [
    {
     "data": {
      "text/plain": [
       "array([[-0.39839468],\n",
       "       [ 0.03517558],\n",
       "       [-0.03773004],\n",
       "       [-0.10250088]])"
      ]
     },
     "execution_count": 22,
     "metadata": {},
     "output_type": "execute_result"
    }
   ],
   "source": [
    "sig.backward(d_out)"
   ]
  },
  {
   "cell_type": "markdown",
   "metadata": {
    "id": "7t-HDIwHpD7L"
   },
   "source": [
    "# La classe Loss"
   ]
  },
  {
   "cell_type": "code",
   "execution_count": 23,
   "metadata": {
    "executionInfo": {
     "elapsed": 834,
     "status": "ok",
     "timestamp": 1687388843968,
     "user": {
      "displayName": "Kevin Degila",
      "userId": "02447322191644424226"
     },
     "user_tz": -60
    },
    "id": "76THFCNOo2hf"
   },
   "outputs": [],
   "source": [
    "class Loss():\n",
    "\n",
    "  def __init__(self):\n",
    "    pass\n",
    "\n",
    "  def forward(self, prediction, target):\n",
    "    assert prediction.shape == target.shape, f\"Prediction shape {prediction.shape}  Target shape {target.shape}\"\n",
    "    self.prediction = prediction\n",
    "    self.target = target\n",
    "    loss = np.mean((self.target - self.prediction) ** 2)\n",
    "    return loss\n",
    "\n",
    "  def backward(self):\n",
    "\n",
    "    self.loss_derivee = -2 * (self.target - self.prediction)\n",
    "    assert self.loss_derivee.shape == self.prediction.shape, f\"La derivee du loss un shape {self.loss_derivee.shape } et different du shape de Prediction : {self.prediction.shape}\"\n",
    "\n",
    "    return self.loss_derivee\n",
    "\n",
    "\n",
    "\n",
    "\n"
   ]
  },
  {
   "cell_type": "code",
   "execution_count": 24,
   "metadata": {
    "colab": {
     "base_uri": "https://localhost:8080/"
    },
    "executionInfo": {
     "elapsed": 513,
     "status": "ok",
     "timestamp": 1687388007238,
     "user": {
      "displayName": "Kevin Degila",
      "userId": "02447322191644424226"
     },
     "user_tz": -60
    },
    "id": "tMlcLYJuqu1W",
    "outputId": "861ab6fd-e306-4d55-8915-ec1c60237a73"
   },
   "outputs": [
    {
     "data": {
      "text/plain": [
       "array([[ 2,  3, -2],\n",
       "       [ 4,  5, -1],\n",
       "       [-5,  2,  3],\n",
       "       [ 0,  5,  4]])"
      ]
     },
     "execution_count": 24,
     "metadata": {},
     "output_type": "execute_result"
    }
   ],
   "source": [
    "X"
   ]
  },
  {
   "cell_type": "code",
   "execution_count": 73,
   "metadata": {
    "colab": {
     "base_uri": "https://localhost:8080/"
    },
    "executionInfo": {
     "elapsed": 392,
     "status": "ok",
     "timestamp": 1687388849267,
     "user": {
      "displayName": "Kevin Degila",
      "userId": "02447322191644424226"
     },
     "user_tz": -60
    },
    "id": "XLU5_s3FqqAi",
    "outputId": "5ba865dc-20a1-4ece-e9dc-2710bd4526b9"
   },
   "outputs": [
    {
     "data": {
      "text/plain": [
       "array([[ 1.52302986],\n",
       "       [-0.23415337],\n",
       "       [-0.23413696],\n",
       "       [ 1.57921282]])"
      ]
     },
     "execution_count": 73,
     "metadata": {},
     "output_type": "execute_result"
    }
   ],
   "source": [
    "Y = np.random.randn(4, 1)\n",
    "Y"
   ]
  },
  {
   "cell_type": "code",
   "execution_count": 26,
   "metadata": {
    "executionInfo": {
     "elapsed": 2,
     "status": "ok",
     "timestamp": 1687388851449,
     "user": {
      "displayName": "Kevin Degila",
      "userId": "02447322191644424226"
     },
     "user_tz": -60
    },
    "id": "wPNTTwgwqzwZ"
   },
   "outputs": [],
   "source": [
    "P = sig_out"
   ]
  },
  {
   "cell_type": "code",
   "execution_count": 27,
   "metadata": {
    "executionInfo": {
     "elapsed": 7,
     "status": "ok",
     "timestamp": 1687388851968,
     "user": {
      "displayName": "Kevin Degila",
      "userId": "02447322191644424226"
     },
     "user_tz": -60
    },
    "id": "ffvXTFltq4xw"
   },
   "outputs": [],
   "source": [
    "mse = Loss()"
   ]
  },
  {
   "cell_type": "code",
   "execution_count": 28,
   "metadata": {
    "colab": {
     "base_uri": "https://localhost:8080/"
    },
    "executionInfo": {
     "elapsed": 7,
     "status": "ok",
     "timestamp": 1687388851969,
     "user": {
      "displayName": "Kevin Degila",
      "userId": "02447322191644424226"
     },
     "user_tz": -60
    },
    "id": "VkdX8tkPq640",
    "outputId": "ff95a943-3d52-412a-ff40-6e3a35bc9ca8"
   },
   "outputs": [
    {
     "data": {
      "text/plain": [
       "1.7236278283972974"
      ]
     },
     "execution_count": 28,
     "metadata": {},
     "output_type": "execute_result"
    }
   ],
   "source": [
    "mse.forward(P, Y)"
   ]
  },
  {
   "cell_type": "code",
   "execution_count": 29,
   "metadata": {
    "colab": {
     "base_uri": "https://localhost:8080/"
    },
    "executionInfo": {
     "elapsed": 522,
     "status": "ok",
     "timestamp": 1687388855114,
     "user": {
      "displayName": "Kevin Degila",
      "userId": "02447322191644424226"
     },
     "user_tz": -60
    },
    "id": "rtPshNcMq-VU",
    "outputId": "3ed84c94-68ab-4b7e-d106-4a83df8f0520"
   },
   "outputs": [
    {
     "data": {
      "text/plain": [
       "array([[3.39506863],\n",
       "       [3.29315634],\n",
       "       [2.28162708],\n",
       "       [0.02921434]])"
      ]
     },
     "execution_count": 29,
     "metadata": {},
     "output_type": "execute_result"
    }
   ],
   "source": [
    "mse.backward()"
   ]
  },
  {
   "cell_type": "markdown",
   "metadata": {
    "id": "tyW04IkDts4V"
   },
   "source": [
    "# La Classe Dense"
   ]
  },
  {
   "cell_type": "code",
   "execution_count": 30,
   "metadata": {
    "executionInfo": {
     "elapsed": 448,
     "status": "ok",
     "timestamp": 1687392440527,
     "user": {
      "displayName": "Kevin Degila",
      "userId": "02447322191644424226"
     },
     "user_tz": -60
    },
    "id": "RAVfMX1SrBbG"
   },
   "outputs": [],
   "source": [
    "class Dense():\n",
    "\n",
    "  def __init__(self, neurons, activation=None):\n",
    "    self.neurons = neurons\n",
    "    self.activation = activation\n",
    "    self.params = []\n",
    "    self.suite = []\n",
    "    self.initialisation = True\n",
    "\n",
    "\n",
    "  def build(self, inputs):\n",
    "    # weights initialization\n",
    "    np.random.seed(42)\n",
    "\n",
    "    self.weights = np.random.randn(inputs.shape[1], self.neurons)\n",
    "    self.biais = np.random.randn(1, self.neurons)\n",
    "\n",
    "    self.params.append(self.weights)\n",
    "    self.params.append(self.biais)\n",
    "\n",
    "    # construction de la suite d'opération\n",
    "    self.suite = [Dot(weights=self.params[0]), Add(biais=self.params[1])]\n",
    "    if self.activation:\n",
    "      self.suite.append(self.activation)\n",
    "\n",
    "\n",
    "\n",
    "  def forward(self, inputs):\n",
    "    if self.initialisation:\n",
    "      self.build(inputs)\n",
    "      self.initialisation = False\n",
    "\n",
    "    for boite in self.suite:\n",
    "      inputs = boite.forward(inputs)\n",
    "\n",
    "    self.output = inputs\n",
    "\n",
    "    return self.output\n",
    "\n",
    "\n",
    "  def backward(self, derivee_output):\n",
    "    assert derivee_output.shape == self.output.shape\n",
    "\n",
    "    for boite in reversed(self.suite):\n",
    "      derivee_output = boite.backward(derivee_output)\n",
    "\n",
    "    derivee_inputs = derivee_output\n",
    "\n",
    "    self.get_layer_gradients()\n",
    "\n",
    "    return derivee_inputs\n",
    "\n",
    "  def get_layer_gradients(self):\n",
    "\n",
    "    self.derivee_params = []\n",
    "\n",
    "    for boite in self.suite:\n",
    "      if issubclass(boite.__class__, BoiteParam):\n",
    "        self.derivee_params.append(boite.derivee_param)\n",
    "\n",
    "\n",
    "\n",
    "  def __repr__(self):\n",
    "    r = f\"DenseLayer(neurons={self.neurons})\"\n",
    "    if self.activation:\n",
    "      r += \" avec Sigmoid\"\n",
    "\n",
    "    return r\n",
    "\n",
    "\n"
   ]
  },
  {
   "cell_type": "code",
   "execution_count": 31,
   "metadata": {
    "executionInfo": {
     "elapsed": 412,
     "status": "ok",
     "timestamp": 1687388866983,
     "user": {
      "displayName": "Kevin Degila",
      "userId": "02447322191644424226"
     },
     "user_tz": -60
    },
    "id": "AmyOHtSs0L5c"
   },
   "outputs": [],
   "source": [
    "sigmoid = Sigmoid()"
   ]
  },
  {
   "cell_type": "code",
   "execution_count": 32,
   "metadata": {
    "executionInfo": {
     "elapsed": 2,
     "status": "ok",
     "timestamp": 1687388867694,
     "user": {
      "displayName": "Kevin Degila",
      "userId": "02447322191644424226"
     },
     "user_tz": -60
    },
    "id": "Khx1pGgC0Ddt"
   },
   "outputs": [],
   "source": [
    "couche = Dense(neurons=2, activation=sigmoid)"
   ]
  },
  {
   "cell_type": "code",
   "execution_count": 33,
   "metadata": {
    "colab": {
     "base_uri": "https://localhost:8080/"
    },
    "executionInfo": {
     "elapsed": 6,
     "status": "ok",
     "timestamp": 1687388868296,
     "user": {
      "displayName": "Kevin Degila",
      "userId": "02447322191644424226"
     },
     "user_tz": -60
    },
    "id": "TRACwiapuBS-",
    "outputId": "7d3ca868-bac0-4a9b-e941-12672bf3ae1a"
   },
   "outputs": [
    {
     "data": {
      "text/plain": [
       "DenseLayer(neurons=2) avec Sigmoid"
      ]
     },
     "execution_count": 33,
     "metadata": {},
     "output_type": "execute_result"
    }
   ],
   "source": [
    "couche"
   ]
  },
  {
   "cell_type": "code",
   "execution_count": 34,
   "metadata": {
    "colab": {
     "base_uri": "https://localhost:8080/"
    },
    "executionInfo": {
     "elapsed": 2,
     "status": "ok",
     "timestamp": 1687388869506,
     "user": {
      "displayName": "Kevin Degila",
      "userId": "02447322191644424226"
     },
     "user_tz": -60
    },
    "id": "xNsEoApYy6Wt",
    "outputId": "3e87e243-f091-4045-9c12-2aea2c20a147"
   },
   "outputs": [
    {
     "data": {
      "text/plain": [
       "array([[ 2,  3, -2],\n",
       "       [ 4,  5, -1],\n",
       "       [-5,  2,  3],\n",
       "       [ 0,  5,  4]])"
      ]
     },
     "execution_count": 34,
     "metadata": {},
     "output_type": "execute_result"
    }
   ],
   "source": [
    "X"
   ]
  },
  {
   "cell_type": "code",
   "execution_count": 35,
   "metadata": {
    "colab": {
     "base_uri": "https://localhost:8080/"
    },
    "executionInfo": {
     "elapsed": 1223,
     "status": "ok",
     "timestamp": 1687388873818,
     "user": {
      "displayName": "Kevin Degila",
      "userId": "02447322191644424226"
     },
     "user_tz": -60
    },
    "id": "YFhSB16p0XIM",
    "outputId": "7a2252b8-b6f4-4f2f-84b9-0e76dd871e2f"
   },
   "outputs": [
    {
     "data": {
      "text/plain": [
       "array([[0.99320003, 0.99604286],\n",
       "       [0.99912347, 0.99968533],\n",
       "       [0.42276305, 0.97817014],\n",
       "       [0.97978765, 0.99941659]])"
      ]
     },
     "execution_count": 35,
     "metadata": {},
     "output_type": "execute_result"
    }
   ],
   "source": [
    "couche.forward(X)"
   ]
  },
  {
   "cell_type": "code",
   "execution_count": 36,
   "metadata": {
    "colab": {
     "base_uri": "https://localhost:8080/"
    },
    "executionInfo": {
     "elapsed": 4,
     "status": "ok",
     "timestamp": 1687388877018,
     "user": {
      "displayName": "Kevin Degila",
      "userId": "02447322191644424226"
     },
     "user_tz": -60
    },
    "id": "glLf10UP0rCJ",
    "outputId": "cfc4f8ca-78bf-4f9f-e2dd-72ddb87004e2"
   },
   "outputs": [
    {
     "data": {
      "text/plain": [
       "[array([[ 0.49671415, -0.1382643 ],\n",
       "        [ 0.64768854,  1.52302986],\n",
       "        [-0.23415337, -0.23413696]]),\n",
       " array([[1.57921282, 0.76743473]])]"
      ]
     },
     "execution_count": 36,
     "metadata": {},
     "output_type": "execute_result"
    }
   ],
   "source": [
    "couche.params"
   ]
  },
  {
   "cell_type": "code",
   "execution_count": 37,
   "metadata": {
    "colab": {
     "base_uri": "https://localhost:8080/"
    },
    "executionInfo": {
     "elapsed": 3,
     "status": "ok",
     "timestamp": 1687388022345,
     "user": {
      "displayName": "Kevin Degila",
      "userId": "02447322191644424226"
     },
     "user_tz": -60
    },
    "id": "ZJTw4mSO0ugc",
    "outputId": "72b35b0f-88a6-46d1-ff96-b5a3c4f71299"
   },
   "outputs": [
    {
     "data": {
      "text/plain": [
       "array([[-0.46947439,  0.54256004],\n",
       "       [-0.46341769, -0.46572975],\n",
       "       [ 0.24196227, -1.91328024],\n",
       "       [-1.72491783, -0.56228753]])"
      ]
     },
     "execution_count": 37,
     "metadata": {},
     "output_type": "execute_result"
    }
   ],
   "source": [
    "d_out = np.random.randn(4, 2)\n",
    "d_out"
   ]
  },
  {
   "cell_type": "code",
   "execution_count": 38,
   "metadata": {
    "colab": {
     "base_uri": "https://localhost:8080/"
    },
    "executionInfo": {
     "elapsed": 3,
     "status": "ok",
     "timestamp": 1687388024543,
     "user": {
      "displayName": "Kevin Degila",
      "userId": "02447322191644424226"
     },
     "user_tz": -60
    },
    "id": "bbOZbASt1BSI",
    "outputId": "10e90b06-b088-4c2e-a10c-28213504e588"
   },
   "outputs": [
    {
     "data": {
      "text/plain": [
       "array([[-0.00187061,  0.00120335,  0.00024173],\n",
       "       [-0.00018133, -0.00048599,  0.00012933],\n",
       "       [ 0.03497832, -0.02397904, -0.00426045],\n",
       "       [-0.0169224 , -0.02262434,  0.00807543]])"
      ]
     },
     "execution_count": 38,
     "metadata": {},
     "output_type": "execute_result"
    }
   ],
   "source": [
    "couche.backward(d_out)"
   ]
  },
  {
   "cell_type": "code",
   "execution_count": 39,
   "metadata": {
    "colab": {
     "base_uri": "https://localhost:8080/"
    },
    "executionInfo": {
     "elapsed": 928,
     "status": "ok",
     "timestamp": 1687388026878,
     "user": {
      "displayName": "Kevin Degila",
      "userId": "02447322191644424226"
     },
     "user_tz": -60
    },
    "id": "ZiUtTJyP1H78",
    "outputId": "3dbf3677-d3b5-4cb8-df74-2fac9cc0f15f"
   },
   "outputs": [
    {
     "data": {
      "text/plain": [
       "[DotProduct, AddBiais, sigmoid]"
      ]
     },
     "execution_count": 39,
     "metadata": {},
     "output_type": "execute_result"
    }
   ],
   "source": [
    "couche.suite"
   ]
  },
  {
   "cell_type": "markdown",
   "metadata": {
    "id": "RnBMDZSF2qco"
   },
   "source": [
    "# La classe Model"
   ]
  },
  {
   "cell_type": "code",
   "execution_count": 40,
   "metadata": {
    "executionInfo": {
     "elapsed": 414,
     "status": "ok",
     "timestamp": 1687393350529,
     "user": {
      "displayName": "Kevin Degila",
      "userId": "02447322191644424226"
     },
     "user_tz": -60
    },
    "id": "wIeY_EiRerby"
   },
   "outputs": [],
   "source": [
    "from copy import deepcopy"
   ]
  },
  {
   "cell_type": "code",
   "execution_count": 67,
   "metadata": {
    "executionInfo": {
     "elapsed": 380,
     "status": "ok",
     "timestamp": 1687393497452,
     "user": {
      "displayName": "Kevin Degila",
      "userId": "02447322191644424226"
     },
     "user_tz": -60
    },
    "id": "9AlQAwxh1LHm"
   },
   "outputs": [],
   "source": [
    "class Model():\n",
    "\n",
    "  def __init__(self, layers):\n",
    "    self.layers = layers\n",
    "    self.compiled = False\n",
    "\n",
    "\n",
    "  def forward(self, inputs):\n",
    "\n",
    "\n",
    "    for layer in self.layers:\n",
    "\n",
    "      inputs = layer.forward(inputs)\n",
    "    self.output = inputs\n",
    "    return self.output\n",
    "\n",
    "\n",
    "  def backward(self, loss_derivee):\n",
    "\n",
    "    assert loss_derivee.shape == self.output.shape\n",
    "\n",
    "    for layer in reversed(self.layers):\n",
    "      loss_derivee = layer.backward(loss_derivee)\n",
    "\n",
    "    return None\n",
    "\n",
    "  def get_params(self):\n",
    "    for layer in self.layers:\n",
    "      yield from layer.params\n",
    "\n",
    "\n",
    "  def get_derivee_params(self):\n",
    "    for layer in self.layers:\n",
    "      yield from layer.derivee_params\n",
    "\n",
    "\n",
    "  def update(self):\n",
    "\n",
    "    for (param, derivee_param) in zip(self.get_params(), self.get_derivee_params()):\n",
    "      assert param.shape == derivee_param.shape\n",
    "      param -=   self.learning_rate * derivee_param\n",
    "\n",
    "\n",
    "  def compile(self, loss, learning_rate):\n",
    "    self.loss = loss\n",
    "    self.learning_rate = learning_rate\n",
    "    self.compiled = True\n",
    "\n",
    "\n",
    "  def fit(self, X, Y, epochs, validation_data=None):\n",
    "\n",
    "    if validation_data:\n",
    "      assert len(validation_data) == 2\n",
    "      assert validation_data[0].shape[1] == X.shape[1]\n",
    "      assert validation_data[1].shape[1] == Y.shape[1]\n",
    "\n",
    "    self.history = {\"loss\":[]}\n",
    "    if validation_data:\n",
    "      self.history['val_loss'] = []\n",
    "\n",
    "\n",
    "    if not self.compiled:\n",
    "      raise NotImplementedError(\"Pas de loss et de learning_rate: Compilez\")\n",
    "\n",
    "    for epoch in range(epochs):\n",
    "      # forward pass\n",
    "      predictions = self.forward(X)\n",
    "      loss = self.loss.forward(predictions, Y)\n",
    "      self.history['loss'].append(loss)\n",
    "\n",
    "\n",
    "      # val loss\n",
    "      if validation_data:\n",
    "        val_preds = self.forward(validation_data[0])\n",
    "        val_loss = self.loss.forward(val_preds, validation_data[1])\n",
    "        self.history['val_loss'].append(val_loss)\n",
    "\n",
    "      log = f'Epoch {epoch+1} .............. loss : {loss}'\n",
    "      if validation_data:\n",
    "        log += f\"  ....val_loss : {val_loss}\"\n",
    "      print(log)\n",
    "\n",
    "\n",
    "\n",
    "      # backward pass\n",
    "      loss_derivee = self.loss.backward()\n",
    "      self.backward(loss_derivee)\n",
    "\n",
    "      # update\n",
    "      self.update()\n",
    "\n",
    "    return self.history\n",
    "\n",
    "  def save_model(self, file):\n",
    "    model_save = deepcopy(self)\n",
    "\n",
    "    import pickle\n",
    "    with open(file, \"wb\") as f:\n",
    "      pickle.dump(model_save, f)\n",
    "\n",
    "\n",
    "  def __repr__(self):\n",
    "\n",
    "    r = \"Layers .................\"\n",
    "    for layer in self.layers:\n",
    "      r += f\" \\n {str(layer)}\"\n",
    "\n",
    "    return r\n",
    "\n",
    "\n"
   ]
  },
  {
   "cell_type": "code",
   "execution_count": 68,
   "metadata": {
    "executionInfo": {
     "elapsed": 556,
     "status": "ok",
     "timestamp": 1687388953156,
     "user": {
      "displayName": "Kevin Degila",
      "userId": "02447322191644424226"
     },
     "user_tz": -60
    },
    "id": "MRAtYdS23VB1"
   },
   "outputs": [],
   "source": [
    "model = Model(layers = [ Dense(neurons=3, activation=sigmoid),\n",
    "       Dense(neurons=1)])"
   ]
  },
  {
   "cell_type": "code",
   "execution_count": 69,
   "metadata": {
    "colab": {
     "base_uri": "https://localhost:8080/"
    },
    "executionInfo": {
     "elapsed": 3,
     "status": "ok",
     "timestamp": 1687388954057,
     "user": {
      "displayName": "Kevin Degila",
      "userId": "02447322191644424226"
     },
     "user_tz": -60
    },
    "id": "FMA6qXMQ4Zzg",
    "outputId": "43bcc3cd-9331-4e09-86a4-9aa993eb7fdd"
   },
   "outputs": [
    {
     "data": {
      "text/plain": [
       "Layers ................. \n",
       " DenseLayer(neurons=3) avec Sigmoid \n",
       " DenseLayer(neurons=1)"
      ]
     },
     "execution_count": 69,
     "metadata": {},
     "output_type": "execute_result"
    }
   ],
   "source": [
    "model"
   ]
  },
  {
   "cell_type": "code",
   "execution_count": 44,
   "metadata": {
    "colab": {
     "base_uri": "https://localhost:8080/"
    },
    "executionInfo": {
     "elapsed": 5,
     "status": "ok",
     "timestamp": 1687388955119,
     "user": {
      "displayName": "Kevin Degila",
      "userId": "02447322191644424226"
     },
     "user_tz": -60
    },
    "id": "DtXdTjHX4avb",
    "outputId": "a44658d1-0387-45a8-c434-193d4f5ba612"
   },
   "outputs": [
    {
     "data": {
      "text/plain": [
       "array([[ 2,  3, -2],\n",
       "       [ 4,  5, -1],\n",
       "       [-5,  2,  3],\n",
       "       [ 0,  5,  4]])"
      ]
     },
     "execution_count": 44,
     "metadata": {},
     "output_type": "execute_result"
    }
   ],
   "source": [
    "X"
   ]
  },
  {
   "cell_type": "code",
   "execution_count": 45,
   "metadata": {
    "colab": {
     "base_uri": "https://localhost:8080/"
    },
    "executionInfo": {
     "elapsed": 3,
     "status": "ok",
     "timestamp": 1687388955970,
     "user": {
      "displayName": "Kevin Degila",
      "userId": "02447322191644424226"
     },
     "user_tz": -60
    },
    "id": "JPgUWnTO4hhO",
    "outputId": "0ff50d0e-419d-4bfb-9a8d-5ef738fa55c4"
   },
   "outputs": [
    {
     "data": {
      "text/plain": [
       "array([[-1.20928499],\n",
       "       [-0.85779989],\n",
       "       [-0.67757295],\n",
       "       [ 0.91424323]])"
      ]
     },
     "execution_count": 45,
     "metadata": {},
     "output_type": "execute_result"
    }
   ],
   "source": [
    "Y"
   ]
  },
  {
   "cell_type": "code",
   "execution_count": 46,
   "metadata": {
    "colab": {
     "base_uri": "https://localhost:8080/"
    },
    "executionInfo": {
     "elapsed": 3,
     "status": "ok",
     "timestamp": 1687388956528,
     "user": {
      "displayName": "Kevin Degila",
      "userId": "02447322191644424226"
     },
     "user_tz": -60
    },
    "id": "clMMuqNT4jpg",
    "outputId": "8e7f58f6-ba93-4c6b-ae9a-9104fe7e5c4c"
   },
   "outputs": [
    {
     "data": {
      "text/plain": [
       "array([[2.47005633],\n",
       "       [2.53479834],\n",
       "       [1.89807891],\n",
       "       [1.92678186]])"
      ]
     },
     "execution_count": 46,
     "metadata": {},
     "output_type": "execute_result"
    }
   ],
   "source": [
    "model.forward(X)"
   ]
  },
  {
   "cell_type": "code",
   "execution_count": 47,
   "metadata": {
    "colab": {
     "base_uri": "https://localhost:8080/"
    },
    "executionInfo": {
     "elapsed": 784,
     "status": "ok",
     "timestamp": 1687388959934,
     "user": {
      "displayName": "Kevin Degila",
      "userId": "02447322191644424226"
     },
     "user_tz": -60
    },
    "id": "inVYjF6R4mgG",
    "outputId": "bffef576-e2d7-44f2-b0ee-9a87ac7bdb32"
   },
   "outputs": [
    {
     "data": {
      "text/plain": [
       "array([[-0.23415337],\n",
       "       [-0.23413696],\n",
       "       [ 1.57921282],\n",
       "       [ 0.76743473]])"
      ]
     },
     "execution_count": 47,
     "metadata": {},
     "output_type": "execute_result"
    }
   ],
   "source": [
    "loss_derivee = np.random.randn(4, 1)\n",
    "loss_derivee"
   ]
  },
  {
   "cell_type": "code",
   "execution_count": 48,
   "metadata": {
    "executionInfo": {
     "elapsed": 1,
     "status": "ok",
     "timestamp": 1687388961289,
     "user": {
      "displayName": "Kevin Degila",
      "userId": "02447322191644424226"
     },
     "user_tz": -60
    },
    "id": "Ir1dYOj84vP1"
   },
   "outputs": [],
   "source": [
    "model.backward(loss_derivee)"
   ]
  },
  {
   "cell_type": "code",
   "execution_count": 49,
   "metadata": {
    "colab": {
     "base_uri": "https://localhost:8080/"
    },
    "executionInfo": {
     "elapsed": 6,
     "status": "ok",
     "timestamp": 1687388962786,
     "user": {
      "displayName": "Kevin Degila",
      "userId": "02447322191644424226"
     },
     "user_tz": -60
    },
    "id": "dijAWVTA-Q0a",
    "outputId": "52bcd33d-b2dd-4786-f2d4-4071489bcc92"
   },
   "outputs": [
    {
     "data": {
      "text/plain": [
       "<generator object Model.get_params at 0x7fcbf0bf3df0>"
      ]
     },
     "execution_count": 49,
     "metadata": {},
     "output_type": "execute_result"
    }
   ],
   "source": [
    "model.get_params()"
   ]
  },
  {
   "cell_type": "code",
   "execution_count": 50,
   "metadata": {
    "colab": {
     "base_uri": "https://localhost:8080/"
    },
    "executionInfo": {
     "elapsed": 4,
     "status": "ok",
     "timestamp": 1687388964319,
     "user": {
      "displayName": "Kevin Degila",
      "userId": "02447322191644424226"
     },
     "user_tz": -60
    },
    "id": "AFcqd1YC-RKl",
    "outputId": "92d90cd8-aa7d-480e-f4da-27cb51d954c2"
   },
   "outputs": [
    {
     "data": {
      "text/plain": [
       "<generator object Model.get_derivee_params at 0x7fcbf0bf3f40>"
      ]
     },
     "execution_count": 50,
     "metadata": {},
     "output_type": "execute_result"
    }
   ],
   "source": [
    "model.get_derivee_params()"
   ]
  },
  {
   "cell_type": "markdown",
   "metadata": {
    "id": "AxUR5XBm6CKi"
   },
   "source": [
    "# Update des paramètres"
   ]
  },
  {
   "cell_type": "code",
   "execution_count": 51,
   "metadata": {
    "colab": {
     "base_uri": "https://localhost:8080/"
    },
    "executionInfo": {
     "elapsed": 469,
     "status": "ok",
     "timestamp": 1687388967627,
     "user": {
      "displayName": "Kevin Degila",
      "userId": "02447322191644424226"
     },
     "user_tz": -60
    },
    "id": "6Fw7biGb6Xl9",
    "outputId": "ced7e56a-1c11-4f9d-b49a-f85231af7173"
   },
   "outputs": [
    {
     "data": {
      "text/plain": [
       "DotProduct"
      ]
     },
     "execution_count": 51,
     "metadata": {},
     "output_type": "execute_result"
    }
   ],
   "source": [
    "M"
   ]
  },
  {
   "cell_type": "code",
   "execution_count": 52,
   "metadata": {
    "colab": {
     "base_uri": "https://localhost:8080/"
    },
    "executionInfo": {
     "elapsed": 6,
     "status": "ok",
     "timestamp": 1687388967628,
     "user": {
      "displayName": "Kevin Degila",
      "userId": "02447322191644424226"
     },
     "user_tz": -60
    },
    "id": "owmo8Idu7zMu",
    "outputId": "4f54918d-0353-42c5-bfe2-85da9af5a3e3"
   },
   "outputs": [
    {
     "data": {
      "text/plain": [
       "True"
      ]
     },
     "execution_count": 52,
     "metadata": {},
     "output_type": "execute_result"
    }
   ],
   "source": [
    "issubclass(M.__class__, BoiteParam)"
   ]
  },
  {
   "cell_type": "code",
   "execution_count": 53,
   "metadata": {
    "colab": {
     "base_uri": "https://localhost:8080/"
    },
    "executionInfo": {
     "elapsed": 3,
     "status": "ok",
     "timestamp": 1687388968111,
     "user": {
      "displayName": "Kevin Degila",
      "userId": "02447322191644424226"
     },
     "user_tz": -60
    },
    "id": "k72CYUW17vBv",
    "outputId": "1a84f3c0-0954-4815-d663-39b79d934633"
   },
   "outputs": [
    {
     "data": {
      "text/plain": [
       "__main__.Dot"
      ]
     },
     "execution_count": 53,
     "metadata": {},
     "output_type": "execute_result"
    }
   ],
   "source": [
    "M.__class__"
   ]
  },
  {
   "cell_type": "code",
   "execution_count": 54,
   "metadata": {
    "colab": {
     "base_uri": "https://localhost:8080/"
    },
    "executionInfo": {
     "elapsed": 2,
     "status": "ok",
     "timestamp": 1687388968505,
     "user": {
      "displayName": "Kevin Degila",
      "userId": "02447322191644424226"
     },
     "user_tz": -60
    },
    "id": "DnCnHh4H6Z75",
    "outputId": "97e1c763-5275-409f-e480-0ec5bdcaa381"
   },
   "outputs": [
    {
     "data": {
      "text/plain": [
       "array([[ 0.49671415],\n",
       "       [-0.1382643 ],\n",
       "       [ 0.64768854]])"
      ]
     },
     "execution_count": 54,
     "metadata": {},
     "output_type": "execute_result"
    }
   ],
   "source": [
    "M.param"
   ]
  },
  {
   "cell_type": "code",
   "execution_count": 55,
   "metadata": {
    "colab": {
     "base_uri": "https://localhost:8080/"
    },
    "executionInfo": {
     "elapsed": 2,
     "status": "ok",
     "timestamp": 1687388970116,
     "user": {
      "displayName": "Kevin Degila",
      "userId": "02447322191644424226"
     },
     "user_tz": -60
    },
    "id": "4hfwXK2o6Zja",
    "outputId": "cf67017e-b85f-4c3f-e10e-0e63f4530bad"
   },
   "outputs": [
    {
     "data": {
      "text/plain": [
       "array([[-0.79199052,  0.2204568 , -1.03271304],\n",
       "       [ 0.10487072, -0.02919159,  0.13674578],\n",
       "       [-0.07537156,  0.02098027, -0.09828046],\n",
       "       [-0.77039934,  0.21444673, -1.00455931]])"
      ]
     },
     "execution_count": 55,
     "metadata": {},
     "output_type": "execute_result"
    }
   ],
   "source": [
    "M.derivee_inputs"
   ]
  },
  {
   "cell_type": "code",
   "execution_count": 56,
   "metadata": {
    "colab": {
     "base_uri": "https://localhost:8080/"
    },
    "executionInfo": {
     "elapsed": 2,
     "status": "ok",
     "timestamp": 1687388970593,
     "user": {
      "displayName": "Kevin Degila",
      "userId": "02447322191644424226"
     },
     "user_tz": -60
    },
    "id": "mhJRmt5P6rj6",
    "outputId": "561949a1-cbe3-497b-fbfb-eff5bdb95822"
   },
   "outputs": [
    {
     "data": {
      "text/plain": [
       "[array([[ 0.49671415, -0.1382643 ],\n",
       "        [ 0.64768854,  1.52302986],\n",
       "        [-0.23415337, -0.23413696]]),\n",
       " array([[1.57921282, 0.76743473]])]"
      ]
     },
     "execution_count": 56,
     "metadata": {},
     "output_type": "execute_result"
    }
   ],
   "source": [
    "couche.params"
   ]
  },
  {
   "cell_type": "code",
   "execution_count": 57,
   "metadata": {
    "colab": {
     "base_uri": "https://localhost:8080/",
     "height": 166
    },
    "executionInfo": {
     "elapsed": 5,
     "status": "error",
     "timestamp": 1687388971820,
     "user": {
      "displayName": "Kevin Degila",
      "userId": "02447322191644424226"
     },
     "user_tz": -60
    },
    "id": "-lVwnct56rSS",
    "outputId": "b39b524a-6e9f-4134-8c6c-974883d3519b"
   },
   "outputs": [
    {
     "data": {
      "text/plain": [
       "[array([[-0.30320043,  0.20796531],\n",
       "        [-0.06424681, -0.07766607],\n",
       "        [ 0.04724885, -0.1280065 ]]),\n",
       " array([[ 0.02131064, -0.03919074]])]"
      ]
     },
     "execution_count": 57,
     "metadata": {},
     "output_type": "execute_result"
    }
   ],
   "source": [
    "couche.derivee_params"
   ]
  },
  {
   "cell_type": "code",
   "execution_count": null,
   "metadata": {
    "id": "m5r00F5h60rm"
   },
   "outputs": [],
   "source": []
  },
  {
   "cell_type": "code",
   "execution_count": 58,
   "metadata": {
    "colab": {
     "base_uri": "https://localhost:8080/"
    },
    "executionInfo": {
     "elapsed": 521,
     "status": "ok",
     "timestamp": 1687389326042,
     "user": {
      "displayName": "Kevin Degila",
      "userId": "02447322191644424226"
     },
     "user_tz": -60
    },
    "id": "39vyMOtD_p7I",
    "outputId": "befb8df6-bc67-40cf-e069-c9e3b0d5f136"
   },
   "outputs": [
    {
     "name": "stdout",
     "output_type": "stream",
     "text": [
      "2.583776983614581\n"
     ]
    }
   ],
   "source": [
    "model = Model(layers = [ Dense(neurons=2, activation=sigmoid),\n",
    "       Dense(neurons=1)])\n",
    "#forward\n",
    "P = model.forward(X)\n",
    "mse = Loss()\n",
    "loss = mse.forward(P, Y)\n",
    "print(loss)\n",
    "#backward\n",
    "loss_derivee = mse.backward()\n",
    "model.backward(loss_derivee)"
   ]
  },
  {
   "cell_type": "code",
   "execution_count": 59,
   "metadata": {
    "executionInfo": {
     "elapsed": 375,
     "status": "ok",
     "timestamp": 1687389352610,
     "user": {
      "displayName": "Kevin Degila",
      "userId": "02447322191644424226"
     },
     "user_tz": -60
    },
    "id": "QFwIqqpSBNy-"
   },
   "outputs": [
    {
     "ename": "AttributeError",
     "evalue": "'Model' object has no attribute 'learning_rate'",
     "output_type": "error",
     "traceback": [
      "\u001b[0;31m---------------------------------------------------------------------------\u001b[0m",
      "\u001b[0;31mAttributeError\u001b[0m                            Traceback (most recent call last)",
      "Cell \u001b[0;32mIn[59], line 1\u001b[0m\n\u001b[0;32m----> 1\u001b[0m \u001b[43mmodel\u001b[49m\u001b[38;5;241;43m.\u001b[39;49m\u001b[43mupdate\u001b[49m\u001b[43m(\u001b[49m\u001b[43m)\u001b[49m\n",
      "Cell \u001b[0;32mIn[41], line 41\u001b[0m, in \u001b[0;36mModel.update\u001b[0;34m(self)\u001b[0m\n\u001b[1;32m     39\u001b[0m \u001b[38;5;28;01mfor\u001b[39;00m (param, derivee_param) \u001b[38;5;129;01min\u001b[39;00m \u001b[38;5;28mzip\u001b[39m(\u001b[38;5;28mself\u001b[39m\u001b[38;5;241m.\u001b[39mget_params(), \u001b[38;5;28mself\u001b[39m\u001b[38;5;241m.\u001b[39mget_derivee_params()):\n\u001b[1;32m     40\u001b[0m   \u001b[38;5;28;01massert\u001b[39;00m param\u001b[38;5;241m.\u001b[39mshape \u001b[38;5;241m==\u001b[39m derivee_param\u001b[38;5;241m.\u001b[39mshape\n\u001b[0;32m---> 41\u001b[0m   param \u001b[38;5;241m-\u001b[39m\u001b[38;5;241m=\u001b[39m   \u001b[38;5;28;43mself\u001b[39;49m\u001b[38;5;241;43m.\u001b[39;49m\u001b[43mlearning_rate\u001b[49m \u001b[38;5;241m*\u001b[39m derivee_param\n",
      "\u001b[0;31mAttributeError\u001b[0m: 'Model' object has no attribute 'learning_rate'"
     ]
    }
   ],
   "source": [
    "model.update()"
   ]
  },
  {
   "cell_type": "code",
   "execution_count": 60,
   "metadata": {
    "colab": {
     "base_uri": "https://localhost:8080/"
    },
    "executionInfo": {
     "elapsed": 945,
     "status": "ok",
     "timestamp": 1687389355402,
     "user": {
      "displayName": "Kevin Degila",
      "userId": "02447322191644424226"
     },
     "user_tz": -60
    },
    "id": "x7sg7A3jCSay",
    "outputId": "6e904ce9-45fa-4b97-f956-0d3fdae67d34"
   },
   "outputs": [
    {
     "name": "stdout",
     "output_type": "stream",
     "text": [
      "2.583776983614581\n"
     ]
    }
   ],
   "source": [
    "P = model.forward(X)\n",
    "mse = Loss()\n",
    "loss = mse.forward(P, Y)\n",
    "print(loss)"
   ]
  },
  {
   "cell_type": "code",
   "execution_count": 61,
   "metadata": {
    "colab": {
     "base_uri": "https://localhost:8080/"
    },
    "executionInfo": {
     "elapsed": 465,
     "status": "ok",
     "timestamp": 1687369543144,
     "user": {
      "displayName": "Kevin Degila",
      "userId": "02447322191644424226"
     },
     "user_tz": -60
    },
    "id": "pM52nFBfCSTf",
    "outputId": "08cc8bb2-1f9f-458e-ebf3-d9bb5406b8cc"
   },
   "outputs": [
    {
     "data": {
      "text/plain": [
       "array([[1.00330788],\n",
       "       [1.00574651],\n",
       "       [0.72243492],\n",
       "       [0.99617929]])"
      ]
     },
     "execution_count": 61,
     "metadata": {},
     "output_type": "execute_result"
    }
   ],
   "source": [
    "P"
   ]
  },
  {
   "cell_type": "code",
   "execution_count": 62,
   "metadata": {
    "colab": {
     "base_uri": "https://localhost:8080/"
    },
    "executionInfo": {
     "elapsed": 362,
     "status": "ok",
     "timestamp": 1687369549732,
     "user": {
      "displayName": "Kevin Degila",
      "userId": "02447322191644424226"
     },
     "user_tz": -60
    },
    "id": "-lZRh2N0D_Z8",
    "outputId": "090cd283-515c-4c53-f233-448c472232cb"
   },
   "outputs": [
    {
     "data": {
      "text/plain": [
       "array([[ 2,  3, -2],\n",
       "       [ 4,  5, -1],\n",
       "       [-5,  2,  3],\n",
       "       [ 0,  5,  4]])"
      ]
     },
     "execution_count": 62,
     "metadata": {},
     "output_type": "execute_result"
    }
   ],
   "source": [
    "X"
   ]
  },
  {
   "cell_type": "code",
   "execution_count": null,
   "metadata": {
    "colab": {
     "base_uri": "https://localhost:8080/"
    },
    "executionInfo": {
     "elapsed": 361,
     "status": "ok",
     "timestamp": 1687369789158,
     "user": {
      "displayName": "Kevin Degila",
      "userId": "02447322191644424226"
     },
     "user_tz": -60
    },
    "id": "j3OqP1JfCSLN",
    "outputId": "fbf4581d-a071-44c5-f592-1b89b24a377e"
   },
   "outputs": [
    {
     "data": {
      "text/plain": [
       "array([[ 2,  3, -2],\n",
       "       [ 4,  5, -1],\n",
       "       [-5,  2,  3],\n",
       "       [ 0,  5,  4]])"
      ]
     },
     "execution_count": 200,
     "metadata": {},
     "output_type": "execute_result"
    }
   ],
   "source": [
    "model.forward(X)"
   ]
  },
  {
   "cell_type": "code",
   "execution_count": null,
   "metadata": {
    "colab": {
     "base_uri": "https://localhost:8080/"
    },
    "executionInfo": {
     "elapsed": 481,
     "status": "ok",
     "timestamp": 1687369436833,
     "user": {
      "displayName": "Kevin Degila",
      "userId": "02447322191644424226"
     },
     "user_tz": -60
    },
    "id": "IIR-ubh9CSCS",
    "outputId": "ae8fdb07-978f-4644-b3df-7d8a5348d674"
   },
   "outputs": [
    {
     "data": {
      "text/plain": [
       "[array([[ 0.49671415],\n",
       "        [-0.1382643 ],\n",
       "        [ 0.64768854]]),\n",
       " array([[1.52302986]])]"
      ]
     },
     "execution_count": 182,
     "metadata": {},
     "output_type": "execute_result"
    }
   ],
   "source": [
    "model.layers[1].params"
   ]
  },
  {
   "cell_type": "code",
   "execution_count": null,
   "metadata": {
    "id": "LOiOIVTEB9lZ"
   },
   "outputs": [],
   "source": []
  },
  {
   "cell_type": "markdown",
   "metadata": {
    "id": "gg5wBZ4ER5v2"
   },
   "source": [
    "# Test de la fonction fit"
   ]
  },
  {
   "cell_type": "code",
   "execution_count": 63,
   "metadata": {
    "colab": {
     "base_uri": "https://localhost:8080/"
    },
    "executionInfo": {
     "elapsed": 497,
     "status": "ok",
     "timestamp": 1687390173716,
     "user": {
      "displayName": "Kevin Degila",
      "userId": "02447322191644424226"
     },
     "user_tz": -60
    },
    "id": "DUqiq7JVR8Cp",
    "outputId": "14b839b3-265d-4bba-f355-0ec7ab3fc98e"
   },
   "outputs": [
    {
     "name": "stdout",
     "output_type": "stream",
     "text": [
      "Epoch 1 .............. loss : 2.583776983614581\n",
      "Epoch 2 .............. loss : 1.830654558704596\n",
      "Epoch 3 .............. loss : 1.375981872840825\n",
      "Epoch 4 .............. loss : 1.09945011406066\n",
      "Epoch 5 .............. loss : 0.930516989730371\n",
      "Epoch 6 .............. loss : 0.8270295920222828\n",
      "Epoch 7 .............. loss : 0.7635165189283757\n",
      "Epoch 8 .............. loss : 0.724483486644125\n",
      "Epoch 9 .............. loss : 0.7004668051030449\n",
      "Epoch 10 .............. loss : 0.6856713729671342\n"
     ]
    }
   ],
   "source": [
    "model = Model(layers = [ Dense(neurons=2, activation=sigmoid),\n",
    "       Dense(neurons=1)])\n",
    "mse = Loss()\n",
    "model.compile(loss=mse, learning_rate=0.01)\n",
    "h = model.fit(X, Y, epochs=10)\n"
   ]
  },
  {
   "cell_type": "markdown",
   "metadata": {
    "id": "o9j7MxEvSzFA"
   },
   "source": [
    "# Comparaison Tensorflow"
   ]
  },
  {
   "cell_type": "code",
   "execution_count": 372,
   "metadata": {
    "colab": {
     "base_uri": "https://localhost:8080/"
    },
    "executionInfo": {
     "elapsed": 5270,
     "status": "ok",
     "timestamp": 1687390368892,
     "user": {
      "displayName": "Kevin Degila",
      "userId": "02447322191644424226"
     },
     "user_tz": -60
    },
    "id": "o2d5rlEGSG2v",
    "outputId": "3db5128d-ce7b-4318-b255-1ccef276551c"
   },
   "outputs": [
    {
     "name": "stdout",
     "output_type": "stream",
     "text": [
      "Epoch 1/10\n",
      "1/1 [==============================] - 1s 670ms/step - loss: 0.6090\n",
      "Epoch 2/10\n",
      "1/1 [==============================] - 0s 8ms/step - loss: 0.5552\n",
      "Epoch 3/10\n",
      "1/1 [==============================] - 0s 11ms/step - loss: 0.5371\n",
      "Epoch 4/10\n",
      "1/1 [==============================] - 0s 9ms/step - loss: 0.5276\n",
      "Epoch 5/10\n",
      "1/1 [==============================] - 0s 9ms/step - loss: 0.5204\n",
      "Epoch 6/10\n",
      "1/1 [==============================] - 0s 9ms/step - loss: 0.5139\n",
      "Epoch 7/10\n",
      "1/1 [==============================] - 0s 11ms/step - loss: 0.5078\n",
      "Epoch 8/10\n",
      "1/1 [==============================] - 0s 8ms/step - loss: 0.5019\n",
      "Epoch 9/10\n",
      "1/1 [==============================] - 0s 9ms/step - loss: 0.4963\n",
      "Epoch 10/10\n",
      "1/1 [==============================] - 0s 8ms/step - loss: 0.4908\n"
     ]
    }
   ],
   "source": [
    "import tensorflow as tf\n",
    "from tensorflow.keras.models import Sequential\n",
    "from tensorflow.keras.layers import Dense\n",
    "from tensorflow.keras.optimizers import SGD\n",
    "\n",
    "model = Sequential([Dense(units=2, activation='sigmoid'),\n",
    "                    Dense(units=1)])\n",
    "model.compile(optimizer=SGD(learning_rate=0.1), loss='mse')\n",
    "history = model.fit(X, Y, epochs=10)"
   ]
  },
  {
   "cell_type": "code",
   "execution_count": 373,
   "metadata": {
    "executionInfo": {
     "elapsed": 543,
     "status": "ok",
     "timestamp": 1687390428403,
     "user": {
      "displayName": "Kevin Degila",
      "userId": "02447322191644424226"
     },
     "user_tz": -60
    },
    "id": "nZm1MFmWTZuR"
   },
   "outputs": [],
   "source": [
    "??Sequential"
   ]
  },
  {
   "cell_type": "markdown",
   "metadata": {
    "id": "zblJpIGTWOyn"
   },
   "source": [
    "# Validation"
   ]
  },
  {
   "cell_type": "code",
   "execution_count": 74,
   "metadata": {
    "colab": {
     "base_uri": "https://localhost:8080/"
    },
    "executionInfo": {
     "elapsed": 574,
     "status": "ok",
     "timestamp": 1687391187450,
     "user": {
      "displayName": "Kevin Degila",
      "userId": "02447322191644424226"
     },
     "user_tz": -60
    },
    "id": "MtRdtc2aTpi3",
    "outputId": "e82f2371-100c-4cf0-b8b8-e669ae2dc7fd"
   },
   "outputs": [
    {
     "name": "stdout",
     "output_type": "stream",
     "text": [
      "Epoch 1 .............. loss : 0.765605125912666  ....val_loss : 0.765605125912666\n",
      "Epoch 2 .............. loss : 0.7372416759227001  ....val_loss : 0.7372416759227001\n",
      "Epoch 3 .............. loss : 0.7189897836807362  ....val_loss : 0.7189897836807362\n",
      "Epoch 4 .............. loss : 0.7067883934683465  ....val_loss : 0.7067883934683465\n",
      "Epoch 5 .............. loss : 0.6982270615484825  ....val_loss : 0.6982270615484825\n",
      "Epoch 6 .............. loss : 0.6918693736832964  ....val_loss : 0.6918693736832964\n",
      "Epoch 7 .............. loss : 0.6868567471322136  ....val_loss : 0.6868567471322136\n",
      "Epoch 8 .............. loss : 0.6826748432887527  ....val_loss : 0.6826748432887527\n",
      "Epoch 9 .............. loss : 0.6790150847328604  ....val_loss : 0.6790150847328604\n",
      "Epoch 10 .............. loss : 0.6756921833351646  ....val_loss : 0.6756921833351646\n"
     ]
    }
   ],
   "source": [
    "model = Model(layers = [ Dense(neurons=2, activation=sigmoid),\n",
    "       Dense(neurons=1)])\n",
    "mse = Loss()\n",
    "model.compile(loss=mse, learning_rate=0.01)\n",
    "h = model.fit(X, Y, epochs=10, validation_data=(X, Y))"
   ]
  },
  {
   "cell_type": "markdown",
   "metadata": {
    "id": "zgt9tphxWtGC"
   },
   "source": [
    "# Test du code final sur le boston dataset"
   ]
  },
  {
   "cell_type": "code",
   "execution_count": 380,
   "metadata": {
    "executionInfo": {
     "elapsed": 2331,
     "status": "ok",
     "timestamp": 1687391318497,
     "user": {
      "displayName": "Kevin Degila",
      "userId": "02447322191644424226"
     },
     "user_tz": -60
    },
    "id": "mgpj1WeQWbW4"
   },
   "outputs": [],
   "source": [
    "import pandas as pd\n",
    "import numpy as np\n",
    "\n",
    "data_url = \"http://lib.stat.cmu.edu/datasets/boston\"\n",
    "raw_df = pd.read_csv(data_url, sep=\"\\s+\", skiprows=22, header=None)\n",
    "data = np.hstack([raw_df.values[::2, :], raw_df.values[1::2, :2]])\n",
    "target = raw_df.values[1::2, 2]\n",
    "data = data\n",
    "target = target\n",
    "\n",
    "X = data\n",
    "Y = target.reshape((506, 1))\n",
    "\n",
    "from sklearn.model_selection import train_test_split\n",
    "X_train, X_test, y_train, y_test = train_test_split(X, Y, test_size=0.25, random_state=0)\n",
    "\n",
    "from sklearn.preprocessing import StandardScaler\n",
    "scaler = StandardScaler()\n",
    "X_train = scaler.fit_transform(X_train)\n",
    "X_test = scaler.transform(X_test)"
   ]
  },
  {
   "cell_type": "code",
   "execution_count": 382,
   "metadata": {
    "colab": {
     "base_uri": "https://localhost:8080/"
    },
    "executionInfo": {
     "elapsed": 2,
     "status": "ok",
     "timestamp": 1687391339511,
     "user": {
      "displayName": "Kevin Degila",
      "userId": "02447322191644424226"
     },
     "user_tz": -60
    },
    "id": "waVJvouyXCWw",
    "outputId": "159589eb-a58d-4350-f1c5-4e150221c4d7"
   },
   "outputs": [
    {
     "data": {
      "text/plain": [
       "((379, 13), (379, 1))"
      ]
     },
     "execution_count": 382,
     "metadata": {},
     "output_type": "execute_result"
    }
   ],
   "source": [
    "X_train.shape, y_train.shape"
   ]
  },
  {
   "cell_type": "code",
   "execution_count": 383,
   "metadata": {
    "colab": {
     "base_uri": "https://localhost:8080/"
    },
    "executionInfo": {
     "elapsed": 5,
     "status": "ok",
     "timestamp": 1687391354808,
     "user": {
      "displayName": "Kevin Degila",
      "userId": "02447322191644424226"
     },
     "user_tz": -60
    },
    "id": "HulBlSzZXF6E",
    "outputId": "ff07a682-7383-42f8-a1ac-8baa8880ac4a"
   },
   "outputs": [
    {
     "data": {
      "text/plain": [
       "((127, 13), (127, 1))"
      ]
     },
     "execution_count": 383,
     "metadata": {},
     "output_type": "execute_result"
    }
   ],
   "source": [
    "X_test.shape, y_test.shape"
   ]
  },
  {
   "cell_type": "markdown",
   "metadata": {
    "id": "taFtZbqEXR5R"
   },
   "source": [
    "## Regression linéaire simple"
   ]
  },
  {
   "cell_type": "code",
   "execution_count": 390,
   "metadata": {
    "colab": {
     "base_uri": "https://localhost:8080/"
    },
    "executionInfo": {
     "elapsed": 444,
     "status": "ok",
     "timestamp": 1687391646275,
     "user": {
      "displayName": "Kevin Degila",
      "userId": "02447322191644424226"
     },
     "user_tz": -60
    },
    "id": "pKYLFTtfXL0F",
    "outputId": "3b8e6585-be29-4de4-87e7-a13baaf6aea9"
   },
   "outputs": [
    {
     "name": "stdout",
     "output_type": "stream",
     "text": [
      "Epoch 1 .............. loss : 712.1743316753176  ....val_loss : 671.7547143671588\n",
      "Epoch 2 .............. loss : 384.0837028693358  ....val_loss : 383.82786822291087\n",
      "Epoch 3 .............. loss : 247.75414344252928  ....val_loss : 229.1941295737599\n",
      "Epoch 4 .............. loss : 148.3806303920543  ....val_loss : 144.19534190777878\n",
      "Epoch 5 .............. loss : 103.89520896898965  ....val_loss : 96.47739842280843\n",
      "Epoch 6 .............. loss : 71.33479105168065  ....val_loss : 69.15302180485378\n",
      "Epoch 7 .............. loss : 55.97937743045081  ....val_loss : 53.20253156199875\n",
      "Epoch 8 .............. loss : 44.69041961018085  ....val_loss : 43.70966230146516\n",
      "Epoch 9 .............. loss : 39.11541183660613  ....val_loss : 37.94536623883121\n",
      "Epoch 10 .............. loss : 35.00552004305203  ....val_loss : 34.3691118394618\n",
      "Epoch 11 .............. loss : 32.86685286102087  ....val_loss : 32.09754754821056\n",
      "Epoch 12 .............. loss : 31.27998033095609  ....val_loss : 30.616578716256143\n",
      "Epoch 13 .............. loss : 30.39111885607059  ....val_loss : 29.622717392182356\n",
      "Epoch 14 .............. loss : 29.716242894637325  ....val_loss : 28.93430154637416\n",
      "Epoch 15 .............. loss : 29.293243882027436  ....val_loss : 28.44108945283857\n",
      "Epoch 16 .............. loss : 28.95482063865208  ....val_loss : 28.075249108343932\n",
      "Epoch 17 .............. loss : 28.7089786277432  ....val_loss : 27.79444481334606\n",
      "Epoch 18 .............. loss : 28.497466286622565  ....val_loss : 27.571855135441425\n",
      "Epoch 19 .............. loss : 28.321231946325064  ....val_loss : 27.390212568490785\n",
      "Epoch 20 .............. loss : 28.160012267263177  ....val_loss : 27.238204534604474\n",
      "Epoch 21 .............. loss : 28.013601705576395  ....val_loss : 27.10827654993127\n",
      "Epoch 22 .............. loss : 27.875042004989993  ....val_loss : 26.995276952012357\n",
      "Epoch 23 .............. loss : 27.74416729188687  ....val_loss : 26.895611914363833\n",
      "Epoch 24 .............. loss : 27.618652933103757  ....val_loss : 26.806712942523752\n",
      "Epoch 25 .............. loss : 27.498454618593712  ....val_loss : 26.726697569350943\n",
      "Epoch 26 .............. loss : 27.382818478029847  ....val_loss : 26.654150638874846\n",
      "Epoch 27 .............. loss : 27.271736860497047  ....val_loss : 26.587981576323592\n",
      "Epoch 28 .............. loss : 27.16495168322497  ....val_loss : 26.527330004354646\n",
      "Epoch 29 .............. loss : 27.062434602101924  ....val_loss : 26.471502428119276\n",
      "Epoch 30 .............. loss : 26.9640574302144  ....val_loss : 26.419929095745758\n"
     ]
    }
   ],
   "source": [
    "model = Model([ Dense(neurons=1)])\n",
    "mse = Loss()\n",
    "model.compile(loss=mse, learning_rate=0.001)\n",
    "h = model.fit(X_train, y_train, epochs=30, validation_data=(X_test, y_test))"
   ]
  },
  {
   "cell_type": "code",
   "execution_count": 392,
   "metadata": {
    "colab": {
     "base_uri": "https://localhost:8080/"
    },
    "executionInfo": {
     "elapsed": 2,
     "status": "ok",
     "timestamp": 1687391667606,
     "user": {
      "displayName": "Kevin Degila",
      "userId": "02447322191644424226"
     },
     "user_tz": -60
    },
    "id": "AC4Z4TujX5Lz",
    "outputId": "07755b56-a68c-441d-f6bf-002c563bd6e4"
   },
   "outputs": [
    {
     "data": {
      "text/plain": [
       "dict_keys(['loss', 'val_loss'])"
      ]
     },
     "execution_count": 392,
     "metadata": {},
     "output_type": "execute_result"
    }
   ],
   "source": [
    "h.keys()"
   ]
  },
  {
   "cell_type": "code",
   "execution_count": 394,
   "metadata": {
    "executionInfo": {
     "elapsed": 460,
     "status": "ok",
     "timestamp": 1687391767580,
     "user": {
      "displayName": "Kevin Degila",
      "userId": "02447322191644424226"
     },
     "user_tz": -60
    },
    "id": "xpgN4qzNXin-"
   },
   "outputs": [],
   "source": [
    "import matplotlib.pyplot as plt\n",
    "\n",
    "def plot_learning_curve(history):\n",
    "\n",
    "\n",
    "  plt.plot(list(range(len(history['loss']))), history['loss'])\n",
    "  plt.plot(list(range(len(history['val_loss']))), history['val_loss'])\n",
    "  plt.xlabel('Epochs')\n",
    "  plt.ylabel(\"Loss\")\n",
    "  plt.title(\"Learning Curve\")\n",
    "  plt.show()"
   ]
  },
  {
   "cell_type": "code",
   "execution_count": 395,
   "metadata": {
    "colab": {
     "base_uri": "https://localhost:8080/",
     "height": 472
    },
    "executionInfo": {
     "elapsed": 532,
     "status": "ok",
     "timestamp": 1687391777191,
     "user": {
      "displayName": "Kevin Degila",
      "userId": "02447322191644424226"
     },
     "user_tz": -60
    },
    "id": "nJbequnSYuuc",
    "outputId": "0f7b8ba5-f0c2-4d81-afc9-df9136dd0237"
   },
   "outputs": [
    {
     "data": {
      "image/png": "[encoded data removed]",
      "text/plain": [
       "<Figure size 640x480 with 1 Axes>"
      ]
     },
     "metadata": {},
     "output_type": "display_data"
    }
   ],
   "source": [
    "plot_learning_curve(h)"
   ]
  },
  {
   "cell_type": "markdown",
   "metadata": {
    "id": "2lR22NKdZVF0"
   },
   "source": [
    "## Réseau de neurones simple"
   ]
  },
  {
   "cell_type": "code",
   "execution_count": 435,
   "metadata": {
    "executionInfo": {
     "elapsed": 532,
     "status": "ok",
     "timestamp": 1687392537690,
     "user": {
      "displayName": "Kevin Degila",
      "userId": "02447322191644424226"
     },
     "user_tz": -60
    },
    "id": "cIJ_hfG1ZdJT"
   },
   "outputs": [],
   "source": [
    "sigmoid = Sigmoid()\n",
    "model = Model([ Dense(neurons=3, activation=sigmoid),\n",
    "                Dense(neurons=1)\n",
    "                ])"
   ]
  },
  {
   "cell_type": "code",
   "execution_count": 436,
   "metadata": {
    "colab": {
     "base_uri": "https://localhost:8080/"
    },
    "executionInfo": {
     "elapsed": 3,
     "status": "ok",
     "timestamp": 1687392538491,
     "user": {
      "displayName": "Kevin Degila",
      "userId": "02447322191644424226"
     },
     "user_tz": -60
    },
    "id": "LmiAC4rkZqsR",
    "outputId": "531e2202-e2e2-478e-a74f-43f762c5bdc5"
   },
   "outputs": [
    {
     "data": {
      "text/plain": [
       "Layers ................. \n",
       " DenseLayer(neurons=3) avec Sigmoid \n",
       " DenseLayer(neurons=1)"
      ]
     },
     "execution_count": 436,
     "metadata": {},
     "output_type": "execute_result"
    }
   ],
   "source": [
    "model"
   ]
  },
  {
   "cell_type": "code",
   "execution_count": 437,
   "metadata": {
    "colab": {
     "base_uri": "https://localhost:8080/"
    },
    "executionInfo": {
     "elapsed": 447,
     "status": "ok",
     "timestamp": 1687392541246,
     "user": {
      "displayName": "Kevin Degila",
      "userId": "02447322191644424226"
     },
     "user_tz": -60
    },
    "id": "uD0dtDp8YyyV",
    "outputId": "49b6926d-dbf1-43df-b28e-30ad34982620"
   },
   "outputs": [
    {
     "name": "stdout",
     "output_type": "stream",
     "text": [
      "Epoch 1 .............. loss : 507.9248956497336  ....val_loss : 492.311693850643\n",
      "Epoch 2 .............. loss : 466.24520089721494  ....val_loss : 451.5607557083814\n",
      "Epoch 3 .............. loss : 427.7318622051442  ....val_loss : 413.9124130384742\n",
      "Epoch 4 .............. loss : 391.9445763802112  ....val_loss : 378.9220233229542\n",
      "Epoch 5 .............. loss : 358.64849568841305  ....val_loss : 346.36124271593445\n",
      "Epoch 6 .............. loss : 327.7617822429383  ....val_loss : 316.1600493240994\n",
      "Epoch 7 .............. loss : 299.2676236516309  ....val_loss : 288.3099264728872\n",
      "Epoch 8 .............. loss : 273.13622523629294  ....val_loss : 262.78193463964385\n",
      "Epoch 9 .............. loss : 249.29517625915642  ....val_loss : 239.50103731811706\n",
      "Epoch 10 .............. loss : 227.63791951268425  ....val_loss : 218.36067475205962\n",
      "Epoch 11 .............. loss : 208.03992319108744  ....val_loss : 199.24113995526798\n",
      "Epoch 12 .............. loss : 190.36761824850086  ....val_loss : 182.0169604282577\n",
      "Epoch 13 .............. loss : 174.48132826613926  ....val_loss : 166.55758033726065\n",
      "Epoch 14 .............. loss : 160.2373877660901  ....val_loss : 152.72817521222836\n",
      "Epoch 15 .............. loss : 147.49213642139273  ....val_loss : 140.39369302710537\n",
      "Epoch 16 .............. loss : 136.10807073394298  ....val_loss : 129.4266588617602\n",
      "Epoch 17 .............. loss : 125.96005042278307  ....val_loss : 119.71304197365491\n",
      "Epoch 18 .............. loss : 116.93619404383797  ....val_loss : 111.1455403981217\n",
      "Epoch 19 .............. loss : 108.93089266089396  ....val_loss : 103.60774406587444\n",
      "Epoch 20 .............. loss : 101.83844353958814  ....val_loss : 96.96951004926161\n",
      "Epoch 21 .............. loss : 95.55606579719415  ....val_loss : 91.09914936496412\n",
      "Epoch 22 .............. loss : 89.99316542944221  ....val_loss : 85.88076187359752\n",
      "Epoch 23 .............. loss : 85.0797863891724  ....val_loss : 81.23032261860891\n",
      "Epoch 24 .............. loss : 80.76874841898717  ....val_loss : 77.1066717562455\n",
      "Epoch 25 .............. loss : 77.02651759310706  ....val_loss : 73.50424553625534\n",
      "Epoch 26 .............. loss : 73.81484783078726  ....val_loss : 70.42003921110141\n",
      "Epoch 27 .............. loss : 71.07813912785376  ....val_loss : 67.8214885725702\n",
      "Epoch 28 .............. loss : 68.74771096995089  ....val_loss : 65.6462032660693\n",
      "Epoch 29 .............. loss : 66.75445606175039  ....val_loss : 63.822082675892396\n",
      "Epoch 30 .............. loss : 65.03745027994101  ....val_loss : 62.28288764393278\n",
      "Epoch 31 .............. loss : 63.54634633177122  ....val_loss : 60.97353071205928\n",
      "Epoch 32 .............. loss : 62.24054219862075  ....val_loss : 59.84982479798374\n",
      "Epoch 33 .............. loss : 61.087469983750644  ....val_loss : 58.87661701467563\n",
      "Epoch 34 .............. loss : 60.06094702186249  ....val_loss : 58.025873950715265\n",
      "Epoch 35 .............. loss : 59.139823571218756  ....val_loss : 57.275113624333386\n",
      "Epoch 36 .............. loss : 58.30692492487099  ....val_loss : 56.60619800672443\n",
      "Epoch 37 .............. loss : 57.54823196113008  ....val_loss : 56.00441451316407\n",
      "Epoch 38 .............. loss : 56.852244452189154  ....val_loss : 55.45777395518676\n",
      "Epoch 39 .............. loss : 56.209483016535096  ....val_loss : 54.956468508282875\n",
      "Epoch 40 .............. loss : 55.612096744538555  ....val_loss : 54.49244857110679\n",
      "Epoch 41 .............. loss : 55.05355205428039  ....val_loss : 54.059088853415076\n",
      "Epoch 42 .............. loss : 54.52838448445342  ....val_loss : 53.65092206747318\n",
      "Epoch 43 .............. loss : 54.03199953686629  ....val_loss : 53.26342416555792\n",
      "Epoch 44 .............. loss : 53.560511881718085  ....val_loss : 52.8928389449061\n",
      "Epoch 45 .............. loss : 53.11061461736576  ....val_loss : 52.536032567989\n",
      "Epoch 46 .............. loss : 52.6794720976204  ....val_loss : 52.19037047744537\n",
      "Epoch 47 .............. loss : 52.26463130133323  ....val_loss : 51.85361057633516\n",
      "Epoch 48 .............. loss : 51.86394800081757  ....val_loss : 51.523807627570385\n",
      "Epoch 49 .............. loss : 51.47552530291856  ....val_loss : 51.19922491536677\n",
      "Epoch 50 .............. loss : 51.09766380971813  ....val_loss : 50.87825088124481\n",
      "Epoch 51 .............. loss : 50.7288251855307  ....val_loss : 50.55932185480677\n",
      "Epoch 52 .............. loss : 50.36761506755083  ....val_loss : 50.240859372612874\n",
      "Epoch 53 .............. loss : 50.01279774169708  ....val_loss : 49.921245520485\n",
      "Epoch 54 .............. loss : 49.66336318555973  ....val_loss : 49.59888553451402\n",
      "Epoch 55 .............. loss : 49.31867097034068  ....val_loss : 49.27243735609513\n",
      "Epoch 56 .............. loss : 48.97867658577628  ....val_loss : 48.941282630794284\n",
      "Epoch 57 .............. loss : 48.64417269364475  ....val_loss : 48.60617503634132\n",
      "Epoch 58 .............. loss : 48.316849201351516  ....val_loss : 48.26966722405963\n",
      "Epoch 59 .............. loss : 47.99892244221096  ....val_loss : 47.93568662008473\n",
      "Epoch 60 .............. loss : 47.69233833768087  ....val_loss : 47.60816373524545\n",
      "Epoch 61 .............. loss : 47.39801758559914  ....val_loss : 47.28967500126016\n",
      "Epoch 62 .............. loss : 47.115661828962544  ....val_loss : 46.981095919974\n",
      "Epoch 63 .............. loss : 46.844111810755244  ....val_loss : 46.682132163029806\n",
      "Epoch 64 .............. loss : 46.581858280850376  ....val_loss : 46.391997037683595\n",
      "Epoch 65 .............. loss : 46.32741201414948  ....val_loss : 46.109834987643424\n",
      "Epoch 66 .............. loss : 46.079483149109315  ....val_loss : 45.834893016978356\n",
      "Epoch 67 .............. loss : 45.83703171984428  ....val_loss : 45.56655596872626\n",
      "Epoch 68 .............. loss : 45.59925484619439  ....val_loss : 45.30433011631969\n",
      "Epoch 69 .............. loss : 45.36555065768121  ....val_loss : 45.04781482122885\n",
      "Epoch 70 .............. loss : 45.135478325458635  ....val_loss : 44.79667654100699\n",
      "Epoch 71 .............. loss : 44.90872200688446  ....val_loss : 44.5506287006048\n",
      "Epoch 72 .............. loss : 44.685061033004786  ....val_loss : 44.309417232400236\n",
      "Epoch 73 .............. loss : 44.464346364713776  ....val_loss : 44.0728106504937\n",
      "Epoch 74 .............. loss : 44.24648250945984  ....val_loss : 43.84059350674433\n",
      "Epoch 75 .............. loss : 44.03141388866228  ....val_loss : 43.61256229369409\n",
      "Epoch 76 .............. loss : 43.819114693430016  ....val_loss : 43.388523089858275\n",
      "Epoch 77 .............. loss : 43.60958139634553  ....val_loss : 43.16829042871423\n",
      "Epoch 78 .............. loss : 43.40282723160738  ....val_loss : 42.95168700988071\n",
      "Epoch 79 .............. loss : 43.198878089290304  ....val_loss : 42.73854396870362\n",
      "Epoch 80 .............. loss : 42.99776938470999  ....val_loss : 42.52870148915845\n",
      "Epoch 81 .............. loss : 42.79954356102666  ....val_loss : 42.32200959318739\n",
      "Epoch 82 .............. loss : 42.60424796501946  ....val_loss : 42.118328973792664\n",
      "Epoch 83 .............. loss : 42.41193290563046  ....val_loss : 41.91753176430316\n",
      "Epoch 84 .............. loss : 42.22264976522918  ....val_loss : 41.71950215596651\n",
      "Epoch 85 .............. loss : 42.03644908658515  ....val_loss : 41.52413679326066\n",
      "Epoch 86 .............. loss : 41.8533786053007  ....val_loss : 41.331344893166886\n",
      "Epoch 87 .............. loss : 41.673481238039145  ....val_loss : 41.14104805242936\n",
      "Epoch 88 .............. loss : 41.49679307058096  ....val_loss : 40.953179726099165\n",
      "Epoch 89 .............. loss : 41.3233414153459  ....val_loss : 40.76768438119792\n",
      "Epoch 90 .............. loss : 41.15314302422827  ....val_loss : 40.58451635024624\n",
      "Epoch 91 .............. loss : 40.9862025484439  ....val_loss : 40.40363842929208\n",
      "Epoch 92 .............. loss : 40.82251133236724  ....val_loss : 40.22502028231934\n",
      "Epoch 93 .............. loss : 40.662046613823684  ....val_loss : 40.04863672694097\n",
      "Epoch 94 .............. loss : 40.50477118081201  ....val_loss : 39.87446598381044\n",
      "Epoch 95 .............. loss : 40.35063350683473  ....val_loss : 39.70248797345854\n",
      "Epoch 96 .............. loss : 40.19956835706255  ....val_loss : 39.5326827391291\n",
      "Epoch 97 .............. loss : 40.05149782865205  ....val_loss : 39.365029063143375\n",
      "Epoch 98 .............. loss : 39.90633276347519  ....val_loss : 39.1995033284611\n",
      "Epoch 99 .............. loss : 39.763974452403666  ....val_loss : 39.036078657998985\n",
      "Epoch 100 .............. loss : 39.624316538334256  ....val_loss : 38.874724343790334\n",
      "Epoch 101 .............. loss : 39.48724702066852  ....val_loss : 38.71540555817277\n",
      "Epoch 102 .............. loss : 39.35265026651055  ....val_loss : 38.55808332165222\n",
      "Epoch 103 .............. loss : 39.22040894236437  ....val_loss : 38.402714688280355\n",
      "Epoch 104 .............. loss : 39.09040579317325  ....val_loss : 38.24925310011091\n",
      "Epoch 105 .............. loss : 38.96252521156863  ....val_loss : 38.09764885776169\n",
      "Epoch 106 .............. loss : 38.83665455765584  ....val_loss : 37.947849653936096\n",
      "Epoch 107 .............. loss : 38.71268520721598  ....val_loss : 37.79980112018688\n",
      "Epoch 108 .............. loss : 38.59051332280145  ....val_loss : 37.653447343247066\n",
      "Epoch 109 .............. loss : 38.4700403571245  ....val_loss : 37.50873131491534\n",
      "Epoch 110 .............. loss : 38.351173310991996  ....val_loss : 37.36559528790041\n",
      "Epoch 111 .............. loss : 38.233824778713455  ....val_loss : 37.22398101857871\n",
      "Epoch 112 .............. loss : 38.11791282251151  ....val_loss : 37.08382988595363\n",
      "Epoch 113 .............. loss : 38.00336072425227  ....val_loss : 36.945082884163476\n",
      "Epoch 114 .............. loss : 37.89009666812495  ....val_loss : 36.807680493870414\n",
      "Epoch 115 .............. loss : 37.778053412093804  ....val_loss : 36.671562446233224\n",
      "Epoch 116 .............. loss : 37.66716800933388  ....val_loss : 36.536667402617226\n",
      "Epoch 117 .............. loss : 37.55738164364766  ....val_loss : 36.40293258465987\n",
      "Epoch 118 .............. loss : 37.44863964501532  ....val_loss : 36.27029340393963\n",
      "Epoch 119 .............. loss : 37.34089175253839  ....val_loss : 36.138683159568096\n",
      "Epoch 120 .............. loss : 37.234092691005024  ....val_loss : 36.00803289670882\n",
      "Epoch 121 .............. loss : 37.128203121979716  ....val_loss : 35.878271549840996\n",
      "Epoch 122 .............. loss : 37.02319101697063  ....val_loss : 35.74932653037652\n",
      "Epoch 123 .............. loss : 36.919033473002756  ....val_loss : 35.62112495440456\n",
      "Epoch 124 .............. loss : 36.81571894157369  ....val_loss : 35.493595732241516\n",
      "Epoch 125 .............. loss : 36.71324976037905  ....val_loss : 35.36667273730125\n",
      "Epoch 126 .............. loss : 36.611644753828095  ....val_loss : 35.24029920638452\n",
      "Epoch 127 .............. loss : 36.510941500013196  ....val_loss : 35.11443335635405\n",
      "Epoch 128 .............. loss : 36.411197661901035  ....val_loss : 34.98905489578731\n",
      "Epoch 129 .............. loss : 36.31249059344468  ....val_loss : 34.86417165869364\n",
      "Epoch 130 .............. loss : 36.21491434470053  ....val_loss : 34.73982506141262\n",
      "Epoch 131 .............. loss : 36.11857333110693  ....val_loss : 34.61609267197933\n",
      "Epoch 132 .............. loss : 36.02357242751006  ....val_loss : 34.493086179102846\n",
      "Epoch 133 .............. loss : 35.93000413497726  ....val_loss : 34.370943735947705\n",
      "Epoch 134 .............. loss : 35.837934586858985  ....val_loss : 34.249817065789195\n",
      "Epoch 135 .............. loss : 35.747391105350445  ....val_loss : 34.129855439414975\n",
      "Epoch 136 .............. loss : 35.65835426890982  ....val_loss : 34.01118988236355\n",
      "Epoch 137 .............. loss : 35.570756669065204  ....val_loss : 33.89392103055879\n",
      "Epoch 138 .............. loss : 35.484488870634124  ....val_loss : 33.77811281814869\n",
      "Epoch 139 .............. loss : 35.39941118697494  ....val_loss : 33.66379227998596\n",
      "Epoch 140 .............. loss : 35.3153685294316  ....val_loss : 33.55095410885875\n",
      "Epoch 141 .............. loss : 35.232205253759396  ....val_loss : 33.43956783274636\n",
      "Epoch 142 .............. loss : 35.1497775380875  ....val_loss : 33.32958559296686\n",
      "Epoch 143 .............. loss : 35.06796193938238  ....val_loss : 33.220949134036125\n",
      "Epoch 144 .............. loss : 34.986659886518474  ....val_loss : 33.11359533465999\n",
      "Epoch 145 .............. loss : 34.90579865930361  ....val_loss : 33.00746015863697\n",
      "Epoch 146 .............. loss : 34.825329789776134  ....val_loss : 32.90248121680383\n",
      "Epoch 147 .............. loss : 34.74522587897512  ....val_loss : 32.79859925066848\n",
      "Epoch 148 .............. loss : 34.665476680065716  ....val_loss : 32.69575885078554\n",
      "Epoch 149 .............. loss : 34.5860850756599  ....val_loss : 32.59390867182821\n",
      "Epoch 150 .............. loss : 34.50706335243698  ....val_loss : 32.49300134130421\n"
     ]
    }
   ],
   "source": [
    "mse = Loss()\n",
    "model.compile(loss=mse, learning_rate=0.0001)\n",
    "h = model.fit(X_train, y_train, epochs=150, validation_data=(X_test, y_test))"
   ]
  },
  {
   "cell_type": "code",
   "execution_count": 438,
   "metadata": {
    "colab": {
     "base_uri": "https://localhost:8080/",
     "height": 472
    },
    "executionInfo": {
     "elapsed": 481,
     "status": "ok",
     "timestamp": 1687392548006,
     "user": {
      "displayName": "Kevin Degila",
      "userId": "02447322191644424226"
     },
     "user_tz": -60
    },
    "id": "PofKkfo2ZupJ",
    "outputId": "5b164152-6a20-4cee-ed54-ba3e7ff7642e"
   },
   "outputs": [
    {
     "data": {
      "image/png": "[encoded data removed]",
      "text/plain": [
       "<Figure size 640x480 with 1 Axes>"
      ]
     },
     "metadata": {},
     "output_type": "display_data"
    }
   ],
   "source": [
    "plot_learning_curve(h)"
   ]
  },
  {
   "cell_type": "markdown",
   "metadata": {
    "id": "acUQvSjvabqB"
   },
   "source": [
    "## Deep Neural Network"
   ]
  },
  {
   "cell_type": "code",
   "execution_count": 447,
   "metadata": {
    "executionInfo": {
     "elapsed": 401,
     "status": "ok",
     "timestamp": 1687392627734,
     "user": {
      "displayName": "Kevin Degila",
      "userId": "02447322191644424226"
     },
     "user_tz": -60
    },
    "id": "u8wMC3ppaN0M"
   },
   "outputs": [],
   "source": [
    "sigmoid = Sigmoid()\n",
    "model = Model([ Dense(neurons=13, activation=sigmoid),\n",
    "               Dense(neurons=1),\n",
    "\n",
    "                ])"
   ]
  },
  {
   "cell_type": "code",
   "execution_count": 448,
   "metadata": {
    "colab": {
     "base_uri": "https://localhost:8080/"
    },
    "executionInfo": {
     "elapsed": 3,
     "status": "ok",
     "timestamp": 1687392629360,
     "user": {
      "displayName": "Kevin Degila",
      "userId": "02447322191644424226"
     },
     "user_tz": -60
    },
    "id": "jeTyisrraqmj",
    "outputId": "44189696-770e-4b35-f662-e5ed38f98bcd"
   },
   "outputs": [
    {
     "data": {
      "text/plain": [
       "Layers ................. \n",
       " DenseLayer(neurons=13) avec Sigmoid \n",
       " DenseLayer(neurons=1)"
      ]
     },
     "execution_count": 448,
     "metadata": {},
     "output_type": "execute_result"
    }
   ],
   "source": [
    "model"
   ]
  },
  {
   "cell_type": "code",
   "execution_count": 449,
   "metadata": {
    "colab": {
     "base_uri": "https://localhost:8080/"
    },
    "executionInfo": {
     "elapsed": 568,
     "status": "ok",
     "timestamp": 1687392631894,
     "user": {
      "displayName": "Kevin Degila",
      "userId": "02447322191644424226"
     },
     "user_tz": -60
    },
    "id": "W9Vb4FC3ar8w",
    "outputId": "c1e95779-6149-4b54-ed7e-4b0941c1ed6f"
   },
   "outputs": [
    {
     "name": "stdout",
     "output_type": "stream",
     "text": [
      "Epoch 1 .............. loss : 609.4535263872165  ....val_loss : 594.285047596059\n",
      "Epoch 2 .............. loss : 494.7172454598782  ....val_loss : 479.0339597155269\n",
      "Epoch 3 .............. loss : 403.8643944989146  ....val_loss : 388.125852443045\n",
      "Epoch 4 .............. loss : 331.0559254119759  ....val_loss : 315.67394558965\n",
      "Epoch 5 .............. loss : 272.44802631944543  ....val_loss : 257.80096535791387\n",
      "Epoch 6 .............. loss : 225.32104126553727  ....val_loss : 211.7461595039089\n",
      "Epoch 7 .............. loss : 187.60578616146617  ....val_loss : 175.37471756759948\n",
      "Epoch 8 .............. loss : 157.62037539699094  ....val_loss : 146.91491099254424\n",
      "Epoch 9 .............. loss : 133.9379615740088  ....val_loss : 124.84238208175846\n",
      "Epoch 10 .............. loss : 115.33306807953525  ....val_loss : 107.84460906755527\n",
      "Epoch 11 .............. loss : 100.76383198721742  ....val_loss : 94.8136613248053\n",
      "Epoch 12 .............. loss : 89.36281102397759  ....val_loss : 84.83959359519152\n",
      "Epoch 13 .............. loss : 80.42414713510476  ....val_loss : 77.19470874462637\n",
      "Epoch 14 .............. loss : 73.38501999017595  ....val_loss : 71.30927122086527\n",
      "Epoch 15 .............. loss : 67.80394933610259  ....val_loss : 66.74384710569032\n",
      "Epoch 16 .............. loss : 63.338980777709935  ....val_loss : 63.16320594326976\n",
      "Epoch 17 .............. loss : 59.72772046662133  ....val_loss : 60.31410463055445\n",
      "Epoch 18 .............. loss : 56.77014011013003  ....val_loss : 58.00697905732569\n",
      "Epoch 19 .............. loss : 54.314382766974546  ....val_loss : 56.10095172821895\n",
      "Epoch 20 .............. loss : 52.245467403626975  ....val_loss : 54.49191732965117\n",
      "Epoch 21 .............. loss : 50.47654447278566  ....val_loss : 53.1034202822021\n",
      "Epoch 22 .............. loss : 48.942161999056076  ....val_loss : 51.87970350441654\n",
      "Epoch 23 .............. loss : 47.59303981617112  ....val_loss : 50.780330560710794\n",
      "Epoch 24 .............. loss : 46.392019075413714  ....val_loss : 49.776027668240474\n",
      "Epoch 25 .............. loss : 45.31096948445956  ....val_loss : 48.84553815905314\n",
      "Epoch 26 .............. loss : 44.32847517552106  ....val_loss : 47.97331299490986\n",
      "Epoch 27 .............. loss : 43.4281343598411  ....val_loss : 47.147866866640136\n",
      "Epoch 28 .............. loss : 42.59732683484983  ....val_loss : 46.36064944995507\n",
      "Epoch 29 .............. loss : 41.82632768413527  ....val_loss : 45.605311093475684\n",
      "Epoch 30 .............. loss : 41.10766782791384  ....val_loss : 44.87726565591287\n",
      "Epoch 31 .............. loss : 40.43565769907934  ....val_loss : 44.17345671665201\n",
      "Epoch 32 .............. loss : 39.80600064159016  ....val_loss : 43.49221408000989\n",
      "Epoch 33 .............. loss : 39.215436372136075  ....val_loss : 42.83306654260564\n",
      "Epoch 34 .............. loss : 38.6613841238386  ....val_loss : 42.19640255910404\n",
      "Epoch 35 .............. loss : 38.14160148197  ....val_loss : 41.582977151351066\n",
      "Epoch 36 .............. loss : 37.65391501487248  ....val_loss : 40.99340130420351\n",
      "Epoch 37 .............. loss : 37.19607734993321  ....val_loss : 40.427797681822355\n",
      "Epoch 38 .............. loss : 36.765757738138504  ....val_loss : 39.88571176993216\n",
      "Epoch 39 .............. loss : 36.36061993592687  ....val_loss : 39.366225827214805\n",
      "Epoch 40 .............. loss : 35.9784234656955  ....val_loss : 38.868155209383524\n",
      "Epoch 41 .............. loss : 35.617102700902  ....val_loss : 38.390229029964544\n",
      "Epoch 42 .............. loss : 35.27480708792659  ....val_loss : 37.93121150658964\n",
      "Epoch 43 .............. loss : 34.94990589755357  ....val_loss : 37.489960848761314\n",
      "Epoch 44 .............. loss : 34.64096896707942  ....val_loss : 37.06544069044981\n",
      "Epoch 45 .............. loss : 34.34673549473888  ....val_loss : 36.656703391349964\n",
      "Epoch 46 .............. loss : 34.06608054688218  ....val_loss : 36.26286278090327\n",
      "Epoch 47 .............. loss : 33.79798576157045  ....val_loss : 35.8830693990944\n",
      "Epoch 48 .............. loss : 33.54151756594019  ....val_loss : 35.51649538738862\n",
      "Epoch 49 .............. loss : 33.295813469490774  ....val_loss : 35.1623304451514\n",
      "Epoch 50 .............. loss : 33.06007504271835  ....val_loss : 34.81978629766011\n",
      "Epoch 51 .............. loss : 32.83356527482038  ....val_loss : 34.48810562414441\n",
      "Epoch 52 .............. loss : 32.61560802327613  ....val_loss : 34.166571869850216\n",
      "Epoch 53 .............. loss : 32.40558784871422  ....val_loss : 33.85451772047728\n",
      "Epoch 54 .............. loss : 32.202949254775206  ....val_loss : 33.551331322479314\n",
      "Epoch 55 .............. loss : 32.007194946988  ....val_loss : 33.25646015967647\n",
      "Epoch 56 .............. loss : 31.817883087859673  ....val_loss : 32.96941282770702\n",
      "Epoch 57 .............. loss : 31.634623681634665  ....val_loss : 32.68975895187364\n",
      "Epoch 58 .............. loss : 31.457074246267982  ....val_loss : 32.41712736155871\n",
      "Epoch 59 .............. loss : 31.28493489871303  ....val_loss : 32.151202510159074\n",
      "Epoch 60 .............. loss : 31.11794294998327  ....val_loss : 31.89171910094423\n",
      "Epoch 61 .............. loss : 30.955867111220783  ....val_loss : 31.63845498126893\n",
      "Epoch 62 .............. loss : 30.798501459312636  ....val_loss : 31.391222584969668\n",
      "Epoch 63 .............. loss : 30.645659386547436  ....val_loss : 31.149859473979227\n",
      "Epoch 64 .............. loss : 30.497167833436613  ....val_loss : 30.914218762685792\n",
      "Epoch 65 .............. loss : 30.352862142074976  ....val_loss : 30.68416031040627\n",
      "Epoch 66 .............. loss : 30.212581843342793  ....val_loss : 30.45954348544016\n",
      "Epoch 67 .............. loss : 30.076167599880154  ....val_loss : 30.240222049671715\n",
      "Epoch 68 .............. loss : 29.943459387228504  ....val_loss : 30.026041357434682\n",
      "Epoch 69 .............. loss : 29.81429584334349  ....val_loss : 29.81683770707524\n",
      "Epoch 70 .............. loss : 29.688514589159947  ....val_loss : 29.612439416054652\n",
      "Epoch 71 .............. loss : 29.565953245530167  ....val_loss : 29.41266905566337\n",
      "Epoch 72 .............. loss : 29.446450851868157  ....val_loss : 29.217346276557524\n",
      "Epoch 73 .............. loss : 29.3298494201223  ....val_loss : 29.026290745082914\n",
      "Epoch 74 .............. loss : 29.2159954161379  ....val_loss : 28.839324845115105\n",
      "Epoch 75 .............. loss : 29.104741029809762  ....val_loss : 28.656275939766143\n",
      "Epoch 76 .............. loss : 28.99594516068419  ....val_loss : 28.47697810555209\n",
      "Epoch 77 .............. loss : 28.889474098142035  ....val_loss : 28.301273337410766\n",
      "Epoch 78 .............. loss : 28.785201911977875  ....val_loss : 28.12901227622496\n",
      "Epoch 79 .............. loss : 28.683010591008  ....val_loss : 27.96005453707506\n",
      "Epoch 80 .............. loss : 28.582789977236505  ....val_loss : 27.7942687240216\n",
      "Epoch 81 .............. loss : 28.48443754459485  ....val_loss : 27.63153221298081\n",
      "Epoch 82 .............. loss : 28.38785806754813  ....val_loss : 27.47173077380462\n",
      "Epoch 83 .............. loss : 28.292963218445838  ....val_loss : 27.314758089862796\n",
      "Epoch 84 .............. loss : 28.19967112514306  ....val_loss : 27.16051522061794\n",
      "Epoch 85 .............. loss : 28.10790591323169  ....val_loss : 27.00891004114925\n",
      "Epoch 86 .............. loss : 28.01759725079982  ....val_loss : 26.859856682858847\n",
      "Epoch 87 .............. loss : 27.92867990823961  ....val_loss : 26.713274991787337\n",
      "Epoch 88 .............. loss : 27.841093341289376  ....val_loss : 26.56909001493585\n",
      "Epoch 89 .............. loss : 27.75478130214716  ....val_loss : 26.427231520499202\n",
      "Epoch 90 .............. loss : 27.669691480994977  ....val_loss : 26.287633554686362\n",
      "Epoch 91 .............. loss : 27.58577517847407  ....val_loss : 26.15023403557705\n",
      "Epoch 92 .............. loss : 27.5029870084069  ....val_loss : 26.014974383004574\n",
      "Epoch 93 .............. loss : 27.421284629242212  ....val_loss : 25.881799182570322\n",
      "Epoch 94 .............. loss : 27.340628502200172  ....val_loss : 25.750655881423725\n",
      "Epoch 95 .............. loss : 27.26098167382669  ....val_loss : 25.62149451325792\n",
      "Epoch 96 .............. loss : 27.18230958056549  ....val_loss : 25.4942674499789\n",
      "Epoch 97 .............. loss : 27.10457987296989  ....val_loss : 25.36892917763184\n",
      "Epoch 98 .............. loss : 27.027762257267355  ....val_loss : 25.245436094358304\n",
      "Epoch 99 .............. loss : 26.951828352129755  ....val_loss : 25.12374632837613\n",
      "Epoch 100 .............. loss : 26.87675155867179  ....val_loss : 25.003819574193948\n",
      "Epoch 101 .............. loss : 26.80250694188499  ....val_loss : 24.885616945477768\n",
      "Epoch 102 .............. loss : 26.72907112190448  ....val_loss : 24.76910084317046\n",
      "Epoch 103 .............. loss : 26.656422173695486  ....val_loss : 24.654234837620933\n",
      "Epoch 104 .............. loss : 26.584539533929245  ....val_loss : 24.540983563608503\n",
      "Epoch 105 .............. loss : 26.513403913993365  ....val_loss : 24.429312627250923\n",
      "Epoch 106 .............. loss : 26.442997218245473  ....val_loss : 24.31918852386517\n",
      "Epoch 107 .............. loss : 26.37330246677077  ....val_loss : 24.210578565912243\n",
      "Epoch 108 .............. loss : 26.30430372204368  ....val_loss : 24.10345082020478\n",
      "Epoch 109 .............. loss : 26.235986019018913  ....val_loss : 23.997774053593595\n",
      "Epoch 110 .............. loss : 26.16833529828923  ....val_loss : 23.893517686379237\n",
      "Epoch 111 .............. loss : 26.101338342044805  ....val_loss : 23.79065175272151\n",
      "Epoch 112 .............. loss : 26.0349827126528  ....val_loss : 23.68914686734416\n",
      "Epoch 113 .............. loss : 25.969256693745816  ....val_loss : 23.588974197858512\n",
      "Epoch 114 .............. loss : 25.904149233764535  ....val_loss : 23.49010544205569\n",
      "Epoch 115 .............. loss : 25.83964989194355  ....val_loss : 23.39251280954827\n",
      "Epoch 116 .............. loss : 25.77574878676168  ....val_loss : 23.296169007174143\n",
      "Epoch 117 .............. loss : 25.712436546898793  ....val_loss : 23.201047227611557\n",
      "Epoch 118 .............. loss : 25.64970426475255  ....val_loss : 23.107121140692442\n",
      "Epoch 119 .............. loss : 25.587543452570834  ....val_loss : 23.014364886941628\n",
      "Epoch 120 .............. loss : 25.525946001251373  ....val_loss : 22.922753072911924\n",
      "Epoch 121 .............. loss : 25.46490414184905  ....val_loss : 22.83226076792713\n",
      "Epoch 122 .............. loss : 25.404410409816638  ....val_loss : 22.74286350188819\n",
      "Epoch 123 .............. loss : 25.344457611986456  ....val_loss : 22.65453726384\n",
      "Epoch 124 .............. loss : 25.28503879627986  ....val_loss : 22.567258501036637\n",
      "Epoch 125 .............. loss : 25.226147224110633  ....val_loss : 22.48100411828211\n",
      "Epoch 126 .............. loss : 25.16777634542719  ....val_loss : 22.39575147736038\n",
      "Epoch 127 .............. loss : 25.10991977631833  ....val_loss : 22.31147839640187\n",
      "Epoch 128 .............. loss : 25.05257127908885  ....val_loss : 22.22816314906518\n",
      "Epoch 129 .............. loss : 24.9957247446948  ....val_loss : 22.145784463440464\n",
      "Epoch 130 .............. loss : 24.93937417741419  ....val_loss : 22.064321520605528\n",
      "Epoch 131 .............. loss : 24.88351368161772  ....val_loss : 21.983753952787616\n",
      "Epoch 132 .............. loss : 24.82813745049533  ....val_loss : 21.904061841102322\n",
      "Epoch 133 .............. loss : 24.773239756588698  ....val_loss : 21.8252257128568\n",
      "Epoch 134 .............. loss : 24.718814943976415  ....val_loss : 21.74722653841746\n",
      "Epoch 135 .............. loss : 24.664857421957816  ....val_loss : 21.670045727652816\n",
      "Epoch 136 .............. loss : 24.61136166008277  ....val_loss : 21.59366512597048\n",
      "Epoch 137 .............. loss : 24.558322184378078  ....val_loss : 21.51806700997318\n",
      "Epoch 138 .............. loss : 24.505733574626102  ....val_loss : 21.443234082763546\n",
      "Epoch 139 .............. loss : 24.453590462557475  ....val_loss : 21.369149468929805\n",
      "Epoch 140 .............. loss : 24.401887530827313  ....val_loss : 21.295796709246424\n",
      "Epoch 141 .............. loss : 24.350619512652397  ....val_loss : 21.223159755123795\n",
      "Epoch 142 .............. loss : 24.299781191995653  ....val_loss : 21.151222962841146\n",
      "Epoch 143 .............. loss : 24.249367404193457  ....val_loss : 21.079971087595062\n",
      "Epoch 144 .............. loss : 24.19937303693042  ....val_loss : 21.00938927739476\n",
      "Epoch 145 .............. loss : 24.149793031475543  ....val_loss : 20.939463066832875\n",
      "Epoch 146 .............. loss : 24.100622384102994  ....val_loss : 20.870178370758428\n",
      "Epoch 147 .............. loss : 24.051856147629017  ....val_loss : 20.801521477875614\n",
      "Epoch 148 .............. loss : 24.00348943300558  ....val_loss : 20.733479044290082\n",
      "Epoch 149 .............. loss : 23.955517410918613  ....val_loss : 20.66603808702128\n",
      "Epoch 150 .............. loss : 23.907935313346876  ....val_loss : 20.59918597749719\n"
     ]
    }
   ],
   "source": [
    "mse = Loss()\n",
    "model.compile(loss=mse, learning_rate=0.0001)\n",
    "h = model.fit(X_train, y_train, epochs=150, validation_data=(X_test, y_test))"
   ]
  },
  {
   "cell_type": "code",
   "execution_count": 450,
   "metadata": {
    "colab": {
     "base_uri": "https://localhost:8080/",
     "height": 472
    },
    "executionInfo": {
     "elapsed": 479,
     "status": "ok",
     "timestamp": 1687392643125,
     "user": {
      "displayName": "Kevin Degila",
      "userId": "02447322191644424226"
     },
     "user_tz": -60
    },
    "id": "1tLPfhXNa1mV",
    "outputId": "b3f2697f-c167-4cc7-ae90-808df5086dbb"
   },
   "outputs": [
    {
     "data": {
      "image/png": "[encoded data removed]",
      "text/plain": [
       "<Figure size 640x480 with 1 Axes>"
      ]
     },
     "metadata": {},
     "output_type": "display_data"
    }
   ],
   "source": [
    "plot_learning_curve(h)"
   ]
  },
  {
   "cell_type": "markdown",
   "metadata": {
    "id": "vLIwr8Zud1lM"
   },
   "source": [
    "# Sauvegarder le Modèle"
   ]
  },
  {
   "cell_type": "code",
   "execution_count": 455,
   "metadata": {
    "executionInfo": {
     "elapsed": 540,
     "status": "ok",
     "timestamp": 1687393520456,
     "user": {
      "displayName": "Kevin Degila",
      "userId": "02447322191644424226"
     },
     "user_tz": -60
    },
    "id": "M2QYLPdkcGQK"
   },
   "outputs": [],
   "source": [
    "sigmoid = Sigmoid()\n",
    "model = Model([ Dense(neurons=13, activation=sigmoid),\n",
    "               Dense(neurons=1),\n",
    "\n",
    "                ])"
   ]
  },
  {
   "cell_type": "code",
   "execution_count": 456,
   "metadata": {
    "colab": {
     "base_uri": "https://localhost:8080/"
    },
    "executionInfo": {
     "elapsed": 488,
     "status": "ok",
     "timestamp": 1687393533114,
     "user": {
      "displayName": "Kevin Degila",
      "userId": "02447322191644424226"
     },
     "user_tz": -60
    },
    "id": "uv2ip9IWfUZG",
    "outputId": "2926dae9-42c0-4b00-cc5e-f626038a35c7"
   },
   "outputs": [
    {
     "name": "stdout",
     "output_type": "stream",
     "text": [
      "Epoch 1 .............. loss : 609.4535263872165  ....val_loss : 594.285047596059\n",
      "Epoch 2 .............. loss : 494.7172454598782  ....val_loss : 479.0339597155269\n",
      "Epoch 3 .............. loss : 403.8643944989146  ....val_loss : 388.125852443045\n",
      "Epoch 4 .............. loss : 331.0559254119759  ....val_loss : 315.67394558965\n",
      "Epoch 5 .............. loss : 272.44802631944543  ....val_loss : 257.80096535791387\n",
      "Epoch 6 .............. loss : 225.32104126553727  ....val_loss : 211.7461595039089\n",
      "Epoch 7 .............. loss : 187.60578616146617  ....val_loss : 175.37471756759948\n",
      "Epoch 8 .............. loss : 157.62037539699094  ....val_loss : 146.91491099254424\n",
      "Epoch 9 .............. loss : 133.9379615740088  ....val_loss : 124.84238208175846\n",
      "Epoch 10 .............. loss : 115.33306807953525  ....val_loss : 107.84460906755527\n"
     ]
    }
   ],
   "source": [
    "mse = Loss()\n",
    "model.compile(loss=mse, learning_rate=0.0001)\n",
    "h = model.fit(X_train, y_train, epochs=10, validation_data=(X_test, y_test))"
   ]
  },
  {
   "cell_type": "code",
   "execution_count": 457,
   "metadata": {
    "executionInfo": {
     "elapsed": 476,
     "status": "ok",
     "timestamp": 1687393555708,
     "user": {
      "displayName": "Kevin Degila",
      "userId": "02447322191644424226"
     },
     "user_tz": -60
    },
    "id": "68XkQSFpffij"
   },
   "outputs": [],
   "source": [
    "model.save_model('model.file')"
   ]
  },
  {
   "cell_type": "code",
   "execution_count": 458,
   "metadata": {
    "executionInfo": {
     "elapsed": 403,
     "status": "ok",
     "timestamp": 1687393620341,
     "user": {
      "displayName": "Kevin Degila",
      "userId": "02447322191644424226"
     },
     "user_tz": -60
    },
    "id": "xaBhDm2NflDU"
   },
   "outputs": [],
   "source": [
    "import pickle\n",
    "\n",
    "def load_model(file):\n",
    "  with open(file, 'rb') as f:\n",
    "    model_load = pickle.load(f)\n",
    "  return model_load"
   ]
  },
  {
   "cell_type": "code",
   "execution_count": 460,
   "metadata": {
    "colab": {
     "base_uri": "https://localhost:8080/"
    },
    "executionInfo": {
     "elapsed": 666,
     "status": "ok",
     "timestamp": 1687393660273,
     "user": {
      "displayName": "Kevin Degila",
      "userId": "02447322191644424226"
     },
     "user_tz": -60
    },
    "id": "S1lP91iLf0zc",
    "outputId": "68ad3a2b-96c1-4ee9-c61d-8535050eb74e"
   },
   "outputs": [
    {
     "data": {
      "text/plain": [
       "Layers ................. \n",
       " DenseLayer(neurons=13) avec Sigmoid \n",
       " DenseLayer(neurons=1)"
      ]
     },
     "execution_count": 460,
     "metadata": {},
     "output_type": "execute_result"
    }
   ],
   "source": [
    "model_charge = load_model(\"model.file\")\n",
    "model_charge"
   ]
  },
  {
   "cell_type": "code",
   "execution_count": null,
   "metadata": {
    "id": "gi_nfVmvf4fy"
   },
   "outputs": [],
   "source": []
  }
 ],
 "metadata": {
  "colab": {
   "authorship_tag": "ABX9TyOl/sW8a9+bUAxFqg+HL1YI",
   "provenance": []
  },
  "kernelspec": {
   "display_name": "Python 3 (ipykernel)",
   "language": "python",
   "name": "python3"
  },
  "language_info": {
   "codemirror_mode": {
    "name": "ipython",
    "version": 3
   },
   "file_extension": ".py",
   "mimetype": "text/x-python",
   "name": "python",
   "nbconvert_exporter": "python",
   "pygments_lexer": "ipython3",
   "version": "3.10.12"
  }
 },
 "nbformat": 4,
 "nbformat_minor": 1
}
