{
 "cells": [
  {
   "cell_type": "code",
   "execution_count": 1,
   "metadata": {
    "executionInfo": {
     "elapsed": 3409,
     "status": "ok",
     "timestamp": 1687393895454,
     "user": {
      "displayName": "Kevin Degila",
      "userId": "02447322191644424226"
     },
     "user_tz": -60
    },
    "id": "JpqqrBaBgWNn"
   },
   "outputs": [],
   "source": [
    "import pandas as pd\n",
    "import numpy as np\n",
    "\n",
    "data_url = \"http://lib.stat.cmu.edu/datasets/boston\"\n",
    "raw_df = pd.read_csv(data_url, sep=\"\\s+\", skiprows=22, header=None)\n",
    "data = np.hstack([raw_df.values[::2, :], raw_df.values[1::2, :2]])\n",
    "target = raw_df.values[1::2, 2]\n",
    "data = data\n",
    "target = target\n",
    "\n",
    "X = data\n",
    "Y = target.reshape((506, 1))\n",
    "\n",
    "from sklearn.model_selection import train_test_split\n",
    "X_train, X_test, y_train, y_test = train_test_split(X, Y, test_size=0.25, random_state=0)\n",
    "\n",
    "from sklearn.preprocessing import StandardScaler\n",
    "scaler = StandardScaler()\n",
    "X_train = scaler.fit_transform(X_train)\n",
    "X_test = scaler.transform(X_test)"
   ]
  },
  {
   "cell_type": "code",
   "execution_count": 2,
   "metadata": {
    "executionInfo": {
     "elapsed": 412,
     "status": "ok",
     "timestamp": 1687394078380,
     "user": {
      "displayName": "Kevin Degila",
      "userId": "02447322191644424226"
     },
     "user_tz": -60
    },
    "id": "ce46hKljg3Nl"
   },
   "outputs": [],
   "source": [
    "from tensorflow.keras.models import Sequential\n",
    "from tensorflow.keras.layers import Dense\n",
    "from tensorflow.keras.optimizers import SGD"
   ]
  },
  {
   "cell_type": "code",
   "execution_count": 3,
   "metadata": {
    "executionInfo": {
     "elapsed": 5,
     "status": "ok",
     "timestamp": 1687394194026,
     "user": {
      "displayName": "Kevin Degila",
      "userId": "02447322191644424226"
     },
     "user_tz": -60
    },
    "id": "e3AHY4nghkhY"
   },
   "outputs": [],
   "source": [
    "model = Sequential([ Dense(units=13, activation=\"sigmoid\"),\n",
    "                   Dense(units=8, activation=\"sigmoid\"),\n",
    "                    Dense(units=5, activation=\"sigmoid\"),\n",
    "                     Dense(units=1)\n",
    "                ])"
   ]
  },
  {
   "cell_type": "code",
   "execution_count": 5,
   "metadata": {
    "colab": {
     "base_uri": "https://localhost:8080/"
    },
    "executionInfo": {
     "elapsed": 2008,
     "status": "ok",
     "timestamp": 1687394280406,
     "user": {
      "displayName": "Kevin Degila",
      "userId": "02447322191644424226"
     },
     "user_tz": -60
    },
    "id": "ECprPyHUiLig",
    "outputId": "fdee09e9-7506-4743-c7a1-27c79beed6c9"
   },
   "outputs": [
    {
     "name": "stdout",
     "output_type": "stream",
     "text": [
      "Epoch 1/20\n",
      "12/12 [==============================] - 1s 16ms/step - loss: 427.8763 - val_loss: 209.6234\n",
      "Epoch 2/20\n",
      "12/12 [==============================] - 0s 3ms/step - loss: 145.2420 - val_loss: 91.9679\n",
      "Epoch 3/20\n",
      "12/12 [==============================] - 0s 4ms/step - loss: 89.9284 - val_loss: 81.5937\n",
      "Epoch 4/20\n",
      "12/12 [==============================] - 0s 5ms/step - loss: 85.4271 - val_loss: 81.1869\n",
      "Epoch 5/20\n",
      "12/12 [==============================] - 0s 3ms/step - loss: 84.6086 - val_loss: 80.9124\n",
      "Epoch 6/20\n",
      "12/12 [==============================] - 0s 3ms/step - loss: 84.2714 - val_loss: 80.6321\n",
      "Epoch 7/20\n",
      "12/12 [==============================] - 0s 3ms/step - loss: 83.8248 - val_loss: 80.1015\n",
      "Epoch 8/20\n",
      "12/12 [==============================] - 0s 3ms/step - loss: 82.9021 - val_loss: 79.1461\n",
      "Epoch 9/20\n",
      "12/12 [==============================] - 0s 3ms/step - loss: 81.3680 - val_loss: 78.2554\n",
      "Epoch 10/20\n",
      "12/12 [==============================] - 0s 3ms/step - loss: 79.3132 - val_loss: 76.0923\n",
      "Epoch 11/20\n",
      "12/12 [==============================] - 0s 5ms/step - loss: 75.6082 - val_loss: 72.5631\n",
      "Epoch 12/20\n",
      "12/12 [==============================] - 0s 3ms/step - loss: 69.2641 - val_loss: 67.9665\n",
      "Epoch 13/20\n",
      "12/12 [==============================] - 0s 4ms/step - loss: 61.1109 - val_loss: 62.9408\n",
      "Epoch 14/20\n",
      "12/12 [==============================] - 0s 5ms/step - loss: 52.5906 - val_loss: 58.4795\n",
      "Epoch 15/20\n",
      "12/12 [==============================] - 0s 3ms/step - loss: 45.5666 - val_loss: 53.4690\n",
      "Epoch 16/20\n",
      "12/12 [==============================] - 0s 3ms/step - loss: 39.4369 - val_loss: 49.5577\n",
      "Epoch 17/20\n",
      "12/12 [==============================] - 0s 5ms/step - loss: 34.6289 - val_loss: 43.5930\n",
      "Epoch 18/20\n",
      "12/12 [==============================] - 0s 5ms/step - loss: 31.4854 - val_loss: 39.7355\n",
      "Epoch 19/20\n",
      "12/12 [==============================] - 0s 3ms/step - loss: 28.5263 - val_loss: 37.3940\n",
      "Epoch 20/20\n",
      "12/12 [==============================] - 0s 5ms/step - loss: 26.3319 - val_loss: 36.0800\n"
     ]
    }
   ],
   "source": [
    "model.compile(loss=\"mse\", optimizer=SGD(learning_rate=0.01))\n",
    "h = model.fit(X_train, y_train, epochs=20, validation_data=(X_test, y_test))"
   ]
  },
  {
   "cell_type": "code",
   "execution_count": 7,
   "metadata": {
    "colab": {
     "base_uri": "https://localhost:8080/"
    },
    "executionInfo": {
     "elapsed": 8,
     "status": "ok",
     "timestamp": 1687394305896,
     "user": {
      "displayName": "Kevin Degila",
      "userId": "02447322191644424226"
     },
     "user_tz": -60
    },
    "id": "T-AiMH9HiLbC",
    "outputId": "1debf489-0986-4e0b-b648-69602b897f86"
   },
   "outputs": [
    {
     "data": {
      "text/plain": [
       "{'loss': [427.8763122558594,\n",
       "  145.24200439453125,\n",
       "  89.92835998535156,\n",
       "  85.42707824707031,\n",
       "  84.60857391357422,\n",
       "  84.27144622802734,\n",
       "  83.82484436035156,\n",
       "  82.90206909179688,\n",
       "  81.36800384521484,\n",
       "  79.313232421875,\n",
       "  75.60820770263672,\n",
       "  69.26409149169922,\n",
       "  61.11091613769531,\n",
       "  52.5905876159668,\n",
       "  45.56661605834961,\n",
       "  39.436927795410156,\n",
       "  34.628944396972656,\n",
       "  31.485441207885742,\n",
       "  28.526336669921875,\n",
       "  26.331907272338867],\n",
       " 'val_loss': [209.62344360351562,\n",
       "  91.9679183959961,\n",
       "  81.59371185302734,\n",
       "  81.18692779541016,\n",
       "  80.91238403320312,\n",
       "  80.6321029663086,\n",
       "  80.10151672363281,\n",
       "  79.14611053466797,\n",
       "  78.25540924072266,\n",
       "  76.09233093261719,\n",
       "  72.56312561035156,\n",
       "  67.96646118164062,\n",
       "  62.94077682495117,\n",
       "  58.47953796386719,\n",
       "  53.46895980834961,\n",
       "  49.557743072509766,\n",
       "  43.59303665161133,\n",
       "  39.73548126220703,\n",
       "  37.39399337768555,\n",
       "  36.08003234863281]}"
      ]
     },
     "execution_count": 7,
     "metadata": {},
     "output_type": "execute_result"
    }
   ],
   "source": [
    "h.history"
   ]
  },
  {
   "cell_type": "code",
   "execution_count": 8,
   "metadata": {
    "executionInfo": {
     "elapsed": 388,
     "status": "ok",
     "timestamp": 1687394329892,
     "user": {
      "displayName": "Kevin Degila",
      "userId": "02447322191644424226"
     },
     "user_tz": -60
    },
    "id": "Cn8WmXDyiLRf"
   },
   "outputs": [],
   "source": [
    "import matplotlib.pyplot as plt\n",
    "\n",
    "def plot_learning_curve(history):\n",
    "\n",
    "\n",
    "  plt.plot(list(range(len(history['loss']))), history['loss'])\n",
    "  plt.plot(list(range(len(history['val_loss']))), history['val_loss'])\n",
    "  plt.xlabel('Epochs')\n",
    "  plt.ylabel(\"Loss\")\n",
    "  plt.title(\"Learning Curve\")\n",
    "  plt.show()"
   ]
  },
  {
   "cell_type": "code",
   "execution_count": 9,
   "metadata": {
    "colab": {
     "base_uri": "https://localhost:8080/",
     "height": 472
    },
    "executionInfo": {
     "elapsed": 676,
     "status": "ok",
     "timestamp": 1687394350092,
     "user": {
      "displayName": "Kevin Degila",
      "userId": "02447322191644424226"
     },
     "user_tz": -60
    },
    "id": "zpJxe_EFikGL",
    "outputId": "29ab5e6f-ae49-461a-91c3-755bb00bab09"
   },
   "outputs": [
    {
     "data": {
      "image/png": "[encoded data removed]",
      "text/plain": [
       "<Figure size 640x480 with 1 Axes>"
      ]
     },
     "metadata": {},
     "output_type": "display_data"
    }
   ],
   "source": [
    "plot_learning_curve(h.history)"
   ]
  },
  {
   "cell_type": "code",
   "execution_count": 10,
   "metadata": {
    "colab": {
     "base_uri": "https://localhost:8080/"
    },
    "executionInfo": {
     "elapsed": 384,
     "status": "ok",
     "timestamp": 1687394367736,
     "user": {
      "displayName": "Kevin Degila",
      "userId": "02447322191644424226"
     },
     "user_tz": -60
    },
    "id": "WbRASVK7iA1Q",
    "outputId": "0b3cee79-a752-4afe-bcd3-9144d6f04ba9"
   },
   "outputs": [
    {
     "name": "stdout",
     "output_type": "stream",
     "text": [
      "Model: \"sequential\"\n",
      "_________________________________________________________________\n",
      " Layer (type)                Output Shape              Param #   \n",
      "=================================================================\n",
      " dense (Dense)               (None, 13)                182       \n",
      "                                                                 \n",
      " dense_1 (Dense)             (None, 8)                 112       \n",
      "                                                                 \n",
      " dense_2 (Dense)             (None, 5)                 45        \n",
      "                                                                 \n",
      " dense_3 (Dense)             (None, 1)                 6         \n",
      "                                                                 \n",
      "=================================================================\n",
      "Total params: 345\n",
      "Trainable params: 345\n",
      "Non-trainable params: 0\n",
      "_________________________________________________________________\n"
     ]
    }
   ],
   "source": [
    "model.summary()"
   ]
  },
  {
   "cell_type": "code",
   "execution_count": 11,
   "metadata": {
    "colab": {
     "base_uri": "https://localhost:8080/"
    },
    "executionInfo": {
     "elapsed": 7,
     "status": "ok",
     "timestamp": 1687394452107,
     "user": {
      "displayName": "Kevin Degila",
      "userId": "02447322191644424226"
     },
     "user_tz": -60
    },
    "id": "ZWmXUoMziFvW",
    "outputId": "270802a6-9b9d-49e0-dbb2-7ad181175242"
   },
   "outputs": [
    {
     "data": {
      "text/plain": [
       "182"
      ]
     },
     "execution_count": 11,
     "metadata": {},
     "output_type": "execute_result"
    }
   ],
   "source": [
    "13*13 + 13"
   ]
  },
  {
   "cell_type": "code",
   "execution_count": 12,
   "metadata": {
    "colab": {
     "base_uri": "https://localhost:8080/"
    },
    "executionInfo": {
     "elapsed": 390,
     "status": "ok",
     "timestamp": 1687394489525,
     "user": {
      "displayName": "Kevin Degila",
      "userId": "02447322191644424226"
     },
     "user_tz": -60
    },
    "id": "90gSrGx9i_0W",
    "outputId": "fdc4ca43-3cb4-4bc7-df28-cfa4a7e9d2f6"
   },
   "outputs": [
    {
     "data": {
      "text/plain": [
       "112"
      ]
     },
     "execution_count": 12,
     "metadata": {},
     "output_type": "execute_result"
    }
   ],
   "source": [
    "13*8 + 8"
   ]
  },
  {
   "cell_type": "code",
   "execution_count": 13,
   "metadata": {
    "executionInfo": {
     "elapsed": 490,
     "status": "ok",
     "timestamp": 1687394562490,
     "user": {
      "displayName": "Kevin Degila",
      "userId": "02447322191644424226"
     },
     "user_tz": -60
    },
    "id": "SpcQaNgwjI-J"
   },
   "outputs": [],
   "source": [
    "model.save('model.h5')"
   ]
  },
  {
   "cell_type": "code",
   "execution_count": 14,
   "metadata": {
    "executionInfo": {
     "elapsed": 5,
     "status": "ok",
     "timestamp": 1687394589622,
     "user": {
      "displayName": "Kevin Degila",
      "userId": "02447322191644424226"
     },
     "user_tz": -60
    },
    "id": "SVVRllcbjaxX"
   },
   "outputs": [],
   "source": [
    "from tensorflow.keras.models import load_model"
   ]
  },
  {
   "cell_type": "code",
   "execution_count": 15,
   "metadata": {
    "executionInfo": {
     "elapsed": 6,
     "status": "ok",
     "timestamp": 1687394609461,
     "user": {
      "displayName": "Kevin Degila",
      "userId": "02447322191644424226"
     },
     "user_tz": -60
    },
    "id": "iB916WTDjhft"
   },
   "outputs": [],
   "source": [
    "new_model = load_model('model.h5')"
   ]
  },
  {
   "cell_type": "code",
   "execution_count": 16,
   "metadata": {
    "colab": {
     "base_uri": "https://localhost:8080/"
    },
    "executionInfo": {
     "elapsed": 8,
     "status": "ok",
     "timestamp": 1687394614783,
     "user": {
      "displayName": "Kevin Degila",
      "userId": "02447322191644424226"
     },
     "user_tz": -60
    },
    "id": "aZynn1VdjmR-",
    "outputId": "a2e1ef67-d5f0-4c22-c15b-1e13ad33d983"
   },
   "outputs": [
    {
     "data": {
      "text/plain": [
       "<keras.engine.sequential.Sequential at 0x7ff0e7d74550>"
      ]
     },
     "execution_count": 16,
     "metadata": {},
     "output_type": "execute_result"
    }
   ],
   "source": [
    "new_model"
   ]
  },
  {
   "cell_type": "code",
   "execution_count": 17,
   "metadata": {
    "colab": {
     "base_uri": "https://localhost:8080/"
    },
    "executionInfo": {
     "elapsed": 476,
     "status": "ok",
     "timestamp": 1687394623414,
     "user": {
      "displayName": "Kevin Degila",
      "userId": "02447322191644424226"
     },
     "user_tz": -60
    },
    "id": "aa0dbWsijnoX",
    "outputId": "be10952c-1bfb-400c-e6aa-cc7849053678"
   },
   "outputs": [
    {
     "name": "stdout",
     "output_type": "stream",
     "text": [
      "Model: \"sequential\"\n",
      "_________________________________________________________________\n",
      " Layer (type)                Output Shape              Param #   \n",
      "=================================================================\n",
      " dense (Dense)               (None, 13)                182       \n",
      "                                                                 \n",
      " dense_1 (Dense)             (None, 8)                 112       \n",
      "                                                                 \n",
      " dense_2 (Dense)             (None, 5)                 45        \n",
      "                                                                 \n",
      " dense_3 (Dense)             (None, 1)                 6         \n",
      "                                                                 \n",
      "=================================================================\n",
      "Total params: 345\n",
      "Trainable params: 345\n",
      "Non-trainable params: 0\n",
      "_________________________________________________________________\n"
     ]
    }
   ],
   "source": [
    "new_model.summary()"
   ]
  },
  {
   "cell_type": "code",
   "execution_count": 18,
   "metadata": {
    "colab": {
     "base_uri": "https://localhost:8080/"
    },
    "executionInfo": {
     "elapsed": 906,
     "status": "ok",
     "timestamp": 1687394643721,
     "user": {
      "displayName": "Kevin Degila",
      "userId": "02447322191644424226"
     },
     "user_tz": -60
    },
    "id": "O2HGDqhIjpqI",
    "outputId": "9efe1ca6-1729-47d6-baa7-d6587c7e2409"
   },
   "outputs": [
    {
     "name": "stdout",
     "output_type": "stream",
     "text": [
      "4/4 [==============================] - 0s 4ms/step\n"
     ]
    }
   ],
   "source": [
    "P = new_model.predict(X_test)"
   ]
  },
  {
   "cell_type": "code",
   "execution_count": 20,
   "metadata": {
    "colab": {
     "base_uri": "https://localhost:8080/"
    },
    "executionInfo": {
     "elapsed": 2,
     "status": "ok",
     "timestamp": 1687394653702,
     "user": {
      "displayName": "Kevin Degila",
      "userId": "02447322191644424226"
     },
     "user_tz": -60
    },
    "id": "nO5GZVk6jucf",
    "outputId": "150fc8a8-29dd-47fa-d287-4bb5a1e3e291"
   },
   "outputs": [
    {
     "data": {
      "text/plain": [
       "(127, 1)"
      ]
     },
     "execution_count": 20,
     "metadata": {},
     "output_type": "execute_result"
    }
   ],
   "source": [
    "P.shape"
   ]
  },
  {
   "cell_type": "code",
   "execution_count": 21,
   "metadata": {
    "colab": {
     "base_uri": "https://localhost:8080/"
    },
    "executionInfo": {
     "elapsed": 882,
     "status": "ok",
     "timestamp": 1687394679173,
     "user": {
      "displayName": "Kevin Degila",
      "userId": "02447322191644424226"
     },
     "user_tz": -60
    },
    "id": "VrEpzUsfjvgF",
    "outputId": "ef4cf702-ccea-44f9-ad6f-bf8ff2371d13"
   },
   "outputs": [
    {
     "name": "stdout",
     "output_type": "stream",
     "text": [
      "4/4 [==============================] - 0s 2ms/step - loss: 36.0800\n"
     ]
    },
    {
     "data": {
      "text/plain": [
       "36.08003234863281"
      ]
     },
     "execution_count": 21,
     "metadata": {},
     "output_type": "execute_result"
    }
   ],
   "source": [
    "new_model.evaluate(X_test, y_test)"
   ]
  },
  {
   "cell_type": "code",
   "execution_count": null,
   "metadata": {
    "id": "h1lbCKnuj2_V"
   },
   "outputs": [],
   "source": []
  }
 ],
 "metadata": {
  "colab": {
   "authorship_tag": "ABX9TyMibLPu6BwpSRd75bzBO9Tv",
   "provenance": []
  },
  "kernelspec": {
   "display_name": "Python 3 (ipykernel)",
   "language": "python",
   "name": "python3"
  },
  "language_info": {
   "codemirror_mode": {
    "name": "ipython",
    "version": 3
   },
   "file_extension": ".py",
   "mimetype": "text/x-python",
   "name": "python",
   "nbconvert_exporter": "python",
   "pygments_lexer": "ipython3",
   "version": "3.10.12"
  }
 },
 "nbformat": 4,
 "nbformat_minor": 1
}
